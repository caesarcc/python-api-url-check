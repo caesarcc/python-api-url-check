{
  "cells": [
    {
      "cell_type": "markdown",
      "metadata": {
        "id": "view-in-github",
        "colab_type": "text"
      },
      "source": [
        "<a href=\"https://colab.research.google.com/github/caesarcc/python-tcc-url-fakenews-check/blob/main/jupyter/passo03_T5_sumarizacao.ipynb\" target=\"_parent\"><img src=\"https://colab.research.google.com/assets/colab-badge.svg\" alt=\"Open In Colab\"/></a>"
      ]
    },
    {
      "cell_type": "markdown",
      "metadata": {
        "id": "tL4PrRZuPyTz"
      },
      "source": [
        "### Configuração para rodar no Goolge Colab    \n",
        "O treinamento no Colab levou pouco menos de uma hora, enquanto no computador local indicou que levaria mais de 2 dias.   \n",
        "As primeiras célucas devem ser executadas para instalar a arquitetura de transformers e liberar o acesso ao drive do Colab.  \n",
        "O arquivo .csv de entrada pode ser enviado por upload."
      ]
    },
    {
      "cell_type": "code",
      "execution_count": 3,
      "metadata": {
        "colab": {
          "base_uri": "https://localhost:8080/"
        },
        "id": "GLWPP5tE97EJ",
        "outputId": "2f9b44b5-06d2-481c-8076-ac5fc26eb5d0"
      },
      "outputs": [
        {
          "output_type": "stream",
          "name": "stdout",
          "text": [
            "\u001b[K     |████████████████████████████████| 211 kB 8.1 MB/s \n",
            "\u001b[K     |████████████████████████████████| 93 kB 2.1 MB/s \n",
            "\u001b[K     |████████████████████████████████| 7.4 MB 22.9 MB/s \n",
            "\u001b[K     |████████████████████████████████| 81 kB 12.1 MB/s \n",
            "\u001b[?25h  Building wheel for tinysegmenter (setup.py) ... \u001b[?25l\u001b[?25hdone\n",
            "  Building wheel for feedfinder2 (setup.py) ... \u001b[?25l\u001b[?25hdone\n",
            "  Building wheel for jieba3k (setup.py) ... \u001b[?25l\u001b[?25hdone\n",
            "  Building wheel for sgmllib3k (setup.py) ... \u001b[?25l\u001b[?25hdone\n"
          ]
        }
      ],
      "source": [
        "!pip install -q transformers\n",
        "!pip install -q newspaper3k"
      ]
    },
    {
      "cell_type": "code",
      "execution_count": 2,
      "metadata": {
        "colab": {
          "base_uri": "https://localhost:8080/"
        },
        "id": "3EZomSUMMKAf",
        "outputId": "918431da-12fd-424f-d29d-a9f53765f225"
      },
      "outputs": [
        {
          "output_type": "stream",
          "name": "stdout",
          "text": [
            "Mounted at /content/drive\n"
          ]
        }
      ],
      "source": [
        "from google.colab import drive\n",
        "drive.mount('/content/drive')"
      ]
    },
    {
      "cell_type": "markdown",
      "metadata": {
        "id": "k04XI2wn9ps9"
      },
      "source": [
        "## Modelo T5 em PT-BR para sumarização"
      ]
    },
    {
      "cell_type": "code",
      "execution_count": 4,
      "metadata": {
        "cellView": "form",
        "id": "CPzAh59THwj1"
      },
      "outputs": [],
      "source": [
        "# Importação de bibliotecas\n",
        "import newspaper\n",
        "import re\n",
        "from transformers import T5Tokenizer, T5ForConditionalGeneration"
      ]
    },
    {
      "cell_type": "code",
      "execution_count": 5,
      "metadata": {
        "id": "XJXnv0l_JFOG",
        "outputId": "82019842-0575-4b75-9ca4-b9d37dbb6d64",
        "colab": {
          "base_uri": "https://localhost:8080/",
          "height": 113,
          "referenced_widgets": [
            "9b601b567ccc4359bd07ac8f51396964",
            "c5d6989d5fab4f8b901a8c2914f84875",
            "3872d94a44094f1996609676da2be417",
            "a97f8dba05c9439caf9239e5d44ae760",
            "febc7f85e00e4482923815f7153404e5",
            "9f0e34eab5d74c5db9a1a9f94b857d7b",
            "80264807e117435eabe4d94c0787a1c0",
            "5f043958755c4ba9ae75f2f9fd4ae127",
            "11ed7b414b4641a7bb8ee60ebccdd233",
            "54cc86c9db444135b714d83346f328a8",
            "284c8ba6f70b48be8e37b9aed9cbc188",
            "1e4d1efed9364e29b7bc0114f54b3d5f",
            "b4bffcb706bd4ba1907ed821d2aa71c5",
            "4cf0eee0dbd5448ea4b340ad1e8baeba",
            "266eb7ffbb214e5e9523948815c7742a",
            "3b9eb558b46448749973ea31c0594f5e",
            "3fa91d7e35ff494ca50cf851f462b16b",
            "56e4287bacc84999bff34b71eec07310",
            "5933f6b9fd874929a9300128236887ef",
            "246447e5e85344dc941190e40f90324d",
            "1e4f9ffa844f472bb490fac79af2ff5e",
            "d4da8a9e93c54a09b95e0ee601344738",
            "9ca19b4b150240799b53fad3305da76c",
            "bfcfea0387d9406ea3827d05c511949c",
            "df7fbeb26d0f432599a028f1696e71d7",
            "d39538611a8449078d40818fc9b5fb55",
            "a843d5ac60bf4a27b8f12e8c5e4d5b3a",
            "32d8fa96840d4351a865e77666033448",
            "b5fff062a6f044bcb83043248cf83dc1",
            "0b5d5c359def44fdac7f28f68b3769ca",
            "097476a69a104b58b14a4c279d217553",
            "293ca747dac243f9b0d833be0cd9abf1",
            "4ce57354e2c24319bc5f60bb690e51c8"
          ]
        }
      },
      "outputs": [
        {
          "output_type": "display_data",
          "data": {
            "text/plain": [
              "Downloading:   0%|          | 0.00/738k [00:00<?, ?B/s]"
            ],
            "application/vnd.jupyter.widget-view+json": {
              "version_major": 2,
              "version_minor": 0,
              "model_id": "9b601b567ccc4359bd07ac8f51396964"
            }
          },
          "metadata": {}
        },
        {
          "output_type": "display_data",
          "data": {
            "text/plain": [
              "Downloading:   0%|          | 0.00/456 [00:00<?, ?B/s]"
            ],
            "application/vnd.jupyter.widget-view+json": {
              "version_major": 2,
              "version_minor": 0,
              "model_id": "1e4d1efed9364e29b7bc0114f54b3d5f"
            }
          },
          "metadata": {}
        },
        {
          "output_type": "display_data",
          "data": {
            "text/plain": [
              "Downloading:   0%|          | 0.00/850M [00:00<?, ?B/s]"
            ],
            "application/vnd.jupyter.widget-view+json": {
              "version_major": 2,
              "version_minor": 0,
              "model_id": "9ca19b4b150240799b53fad3305da76c"
            }
          },
          "metadata": {}
        }
      ],
      "source": [
        "model_name = 'unicamp-dl/ptt5-base-portuguese-vocab'\n",
        "tokenizer = T5Tokenizer.from_pretrained(model_name)\n",
        "# PyTorch\n",
        "model_pt = T5ForConditionalGeneration.from_pretrained(model_name)"
      ]
    },
    {
      "cell_type": "code",
      "execution_count": 6,
      "metadata": {
        "id": "ouGMVUwBJFOI",
        "outputId": "d505800b-a31e-4eda-de8c-ec8b4e7df10e",
        "colab": {
          "base_uri": "https://localhost:8080/"
        }
      },
      "outputs": [
        {
          "output_type": "stream",
          "name": "stdout",
          "text": [
            "- Publicidade -\n",
            "\n",
            "Será que a foto mostrando o ex-presidente Lula na capa de maio de 2022 da revista Time é verdadeira ou falsa?\n",
            "\n",
            "A imagem começou a se espalhar nas redes sociais, além de ser bastante c\n"
          ]
        }
      ],
      "source": [
        "artigo = newspaper.Article('https://www.e-farsas.com/a-foto-da-capa-da-revista-time-com-o-ex-presidente-lula-e-real.html', language='pt')\n",
        "artigo.download()\n",
        "artigo.parse()\n",
        "print(artigo.text[:200])"
      ]
    },
    {
      "cell_type": "code",
      "execution_count": 7,
      "metadata": {
        "id": "sdLq4bK4JFOK",
        "outputId": "cf26094f-a047-41f7-fcd9-ad5f8bace4be",
        "colab": {
          "base_uri": "https://localhost:8080/",
          "height": 53
        }
      },
      "outputs": [
        {
          "output_type": "execute_result",
          "data": {
            "text/plain": [
              "'Será que a foto mostrando o ex-presidente Lula na capa de maio de 2022 da revista Time é verdadeira ou falsa? A imagem começou a se espalhar nas redes sociais, além de ser bastante compartilhada em gr'"
            ],
            "application/vnd.google.colaboratory.intrinsic+json": {
              "type": "string"
            }
          },
          "metadata": {},
          "execution_count": 7
        }
      ],
      "source": [
        "# Limpar textos\n",
        "def limpar_textos(texto):\n",
        "    texto = str(texto).replace(r'http[\\w:/\\.]+', ' ')  # remover urls\n",
        "    texto = str(texto).replace(r'[^\\.\\w\\s]', ' ')  # remover tudo exceto caracters e pontuação\n",
        "    texto = str(texto).replace('[^a-zA-Z]', ' ')\n",
        "    texto = str(texto).replace(r'\\s\\s+', ' ')\n",
        "    # Remoção de texto entre caracteres de destaque [], () ou --\n",
        "    texto = re.sub(\"[-\\(\\[].*?[\\)\\]-]\", \"\", str(texto))\n",
        "    # Corrige novas linhas indevidas\n",
        "    texto = str(texto).replace(r'\\n', ' ').replace('\\n', ' ')\n",
        "    # Correção das pontuações duplicadas, há muitos casos no dadaset\n",
        "    texto = re.sub(r'(\\W)(?=\\1)', '', str(texto)).replace(\". .\", \".\")\n",
        "    return texto.strip()\n",
        "\n",
        "artigo_limpo = limpar_textos(artigo.text)\n",
        "artigo_limpo[:200]"
      ]
    },
    {
      "cell_type": "code",
      "execution_count": 8,
      "metadata": {
        "id": "QyLD8QdGJFOM",
        "outputId": "221d6c91-e11c-4810-a6ab-c2ed5b59cd60",
        "colab": {
          "base_uri": "https://localhost:8080/"
        }
      },
      "outputs": [
        {
          "output_type": "stream",
          "name": "stdout",
          "text": [
            "tensor([[    0, 19066,    13,     7,  3860,  6011,     9,   239,    14,  2670,\n",
            "         10276,    22,  2666,     4,   321,     4,   318,  2570,    11,   752,\n",
            "          4714,    21,  3787,    52,  7931,  1854,    25,  1526,   348,     7,\n",
            "            35,  6322,    33,   117,  2964,  1457,     3,   275,     4,    57,\n",
            "          1125, 18455,    12,   769,    10, 14341,     6,    89,  3006,     8,\n",
            "            10,  3659, 15455,     3,    22,   100,  1082,     4,   321,     4,\n",
            "           318,  2570,     3,     8,  1624,     9,   239,  2013,  4714,     5,\n",
            "           544,   345,    11,  3224,   674,   146,    12,   792,   304,   175,\n",
            "           176,  4780,     4, 10276,    46,     9,  1366,    39,   860,    10,\n",
            "           112,  1445, 10276,  1565, 16930,    16,   150,   157,  8816,     8,\n",
            "          4565,  2618,  5064,     5,   461,   643,    47,    23,     7,   100,\n",
            "           155,    13,  5585,  7931,     6,     4,  2666,     6,    11,  4714,\n",
            "            18,   409,     6,  2633,  8371,    98,    50,  7649,     3,  3536,\n",
            "          6377,   536,    12,  8212,    35,  1296,   155,    67,  1586,    52,\n",
            "            47,     5, 19066,    13,   643,  2666,    21,  1011,  1854, 13340,\n",
            "            52,  4812, 11226,  1854,    25,  2666,    21,  1011,     8,    38,\n",
            "          5025,    23,  1127,    50,  4714,    12,    45,  7551,    19, 20004,\n",
            "            19,   107, 10837,     4,   321,     4,   318,  2570,    46,  1231,\n",
            "           643,  3860,    19, 20004,   403,  2357, 18455,    26, 17426,  6747,\n",
            "           314,    13, 10276,   141,    22,  2666,    11,  4714,  1854,   437,\n",
            "             7,  4714,     3, 10276,    23,  1955,    53,    19,   169,     4,\n",
            "           311,     4,   318,  2570,    12,    99,   196,     8,     9,   239,\n",
            "            14,  2670,  9362,    81,   669,  4255,     3,    29,  1364,    19,\n",
            "           112,     8,   515,    22,  6896,     5,   403,    51, 12023,    39,\n",
            "          7788,     6,     4, 10276,    48,   752,    23, 12564,    37,   409,\n",
            "            11,  6896,     3,  3379,    43,  1273,  3901,    33, 16348,   246,\n",
            "          3826,     5, 10276,   700,    13,     9, 13109,  1220,   150,   304,\n",
            "           192,   332,  1007,    53,    39,   624,     8,    13,   304,  4025,\n",
            "            56,  4053,   141, 11199, 12253,    20,   150,  2390, 20018,     5,\n",
            "            91,  2068,    10,  1625,  5488,     3, 16348,   246,  3826,    21,\n",
            "           304,  1380,  1058,   806,  1849,  2086,   624,   779,   304,  1305,\n",
            "           515,    47,    87,   158,    16, 13877, 20018,     5, 10276,    55,\n",
            "           700,    22,  1955,    13,    94,  1138,     7,  4055,     3,    12,\n",
            "           976,    47,  9446,    82,    13,    35,  7214,  2142,   682,     3,\n",
            "            69,    13, 11547,    13,  2442,  4666,   682,   210,  1340,    34,\n",
            "            39,  6649,     5,     5,     5,   230,  2633,   148,  8902,    22,\n",
            "          2666,    11,  4714, 10276,    47,    23,     9,    90,   364,     7,\n",
            "         17865,    33,     7,  2666,    11,   657,  2743,  1535,    58,   752,\n",
            "           220,    14,  2013,     5,  1757,  1838,     3,     9,   729, 14337,\n",
            "           637,     3,    30,  2092,   639,  8144, 16667,     6,     8,  8696]])\n"
          ]
        }
      ],
      "source": [
        "tokens_entrada = tokenizer.encode(artigo_limpo, return_tensors=\"pt\", max_length=400, truncation=True)\n",
        "\n",
        "# max_length: O número máximo de tokens a serem gerado.\n",
        "# length_penalty: Penalidade exponencial para o comprimento, 1,0 significa sem penalidade.\n",
        "# num_beams: Especifica como usar busca heurística (beam search) em vez de busca gulosa (greedy search), \n",
        "#            O modelo tentará manter as 4 hipóteses mais prováveis ​​em cada passo de tempo.\n",
        "# early_stopping: A geração seja concluída quando todas as hipóteses (beams) atingirem o final do token de string ( EOS ).\n",
        "\n",
        "outputs = model_pt.generate(\n",
        "    tokens_entrada, \n",
        "    max_length=400, \n",
        "    length_penalty=2.0, \n",
        "    num_beams=4, \n",
        "    early_stopping=True)\n",
        "print(outputs)"
      ]
    },
    {
      "cell_type": "code",
      "execution_count": 10,
      "metadata": {
        "id": "-sdJtLhNJFOO",
        "outputId": "b77809d9-0673-42b7-a1f2-f0958472f34f",
        "colab": {
          "base_uri": "https://localhost:8080/"
        }
      },
      "outputs": [
        {
          "output_type": "stream",
          "name": "stdout",
          "text": [
            "Será que a foto mostrando o ex-presidente Lula na capa de maio de 2022 da revista Time é verdadeira ou falsa? A imagem começou a se espalhar nas redes sociais, além de ser bastante compartilhada em grupos do WhatsApp e do Telegram, na primeira semana de maio de 2022, e mostra o examericana Time. Ao lado da manchete em inglês “O segundo ato de Lula: o líder mais popular do Brasil”, Lula aparece vestindo um terno escuro e camisa azul clara. Como essa não foi a primeira vez que fotos falsas de capas da Time com presidentes brasileiros circularam pela web, muita gente ficou em dúvida se dessa vez era verdade ou não. Será que essa capa é real? Verdade ou mentira? A capa é real e sua divulgação foi feita pela Time em seu perfil no Instagram no dia 04 de maio de 2022: Ver essa foto no Instagram Uma publicação compartilhada por TIME Por que Lula está na capa da Time? Segundo a Time, Lula foi entrevistado no final de março de 2022 em São Paulo e o ex-presidente falou sobre diversos assuntos, como eleições no Brasil e guerra na Ucrânia. Uma das declarações mais polêmicas de Lula à revista foi referente ao presidente da Ucrânia, Volodymyr Zelensky. Lula disse que o ucraniano poderia ter “negociado mais” e que “ninguém está procurando contribuir para ter paz“. Na visão do petista, Zelensky é “tão responsável quanto Putin” porque “uma guerra não tem apenas um culpado“. Lula também disse na entrevista que quando deixou a presidência, em 2010, não imaginava que se tornaria candidato novamente, mas que percebeu que precisa lutar novamente pelos direitos dos mais pobres... 10 brasileiros já estiveram na capa da Time Lula não foi o primeiro brasileiro a estampar a capa da prestigiada revista norte-americana. Antes dele, o jogador Neymar, os políticos Jânio Quadros e Getúlio\n"
          ]
        }
      ],
      "source": [
        "print(tokenizer.decode(outputs[0], skip_special_tokens=True, clean_up_tokenization_spaces=False))"
      ]
    },
    {
      "cell_type": "markdown",
      "metadata": {
        "id": "nYVq1HCgX5zB"
      },
      "source": [
        "### Testando"
      ]
    },
    {
      "cell_type": "code",
      "execution_count": 11,
      "metadata": {
        "colab": {
          "base_uri": "https://localhost:8080/"
        },
        "id": "OJfQlVjsNqug",
        "outputId": "765e3f8f-e583-4777-c52b-db873979c7e6"
      },
      "outputs": [
        {
          "output_type": "execute_result",
          "data": {
            "text/plain": [
              "('drive/MyDrive/PUC/TCC/modelos/t5_sumarizar/tokenizer_config.json',\n",
              " 'drive/MyDrive/PUC/TCC/modelos/t5_sumarizar/special_tokens_map.json',\n",
              " 'drive/MyDrive/PUC/TCC/modelos/t5_sumarizar/spiece.model',\n",
              " 'drive/MyDrive/PUC/TCC/modelos/t5_sumarizar/added_tokens.json')"
            ]
          },
          "metadata": {},
          "execution_count": 11
        }
      ],
      "source": [
        "CAMINHO_MODELO = \"drive/MyDrive/PUC/TCC/modelos/t5_sumarizar\"\n",
        "model_pt.save_pretrained(f\"{CAMINHO_MODELO}\")\n",
        "tokenizer.save_pretrained(f\"{CAMINHO_MODELO}\")"
      ]
    }
  ],
  "metadata": {
    "accelerator": "GPU",
    "colab": {
      "collapsed_sections": [],
      "machine_shape": "hm",
      "name": "classificacao_passo02_treino_avaliacao.ipynb",
      "provenance": [],
      "include_colab_link": true
    },
    "interpreter": {
      "hash": "50691a0bc379e9e647c9463feff34781ae883c7b810726d51a7ed60c4a02b637"
    },
    "kernelspec": {
      "display_name": "Python 3.8.13 ('tcc')",
      "language": "python",
      "name": "python3"
    },
    "language_info": {
      "codemirror_mode": {
        "name": "ipython",
        "version": 3
      },
      "file_extension": ".py",
      "mimetype": "text/x-python",
      "name": "python",
      "nbconvert_exporter": "python",
      "pygments_lexer": "ipython3",
      "version": "3.8.13"
    },
    "widgets": {
      "application/vnd.jupyter.widget-state+json": {
        "9b601b567ccc4359bd07ac8f51396964": {
          "model_module": "@jupyter-widgets/controls",
          "model_name": "HBoxModel",
          "model_module_version": "1.5.0",
          "state": {
            "_dom_classes": [],
            "_model_module": "@jupyter-widgets/controls",
            "_model_module_version": "1.5.0",
            "_model_name": "HBoxModel",
            "_view_count": null,
            "_view_module": "@jupyter-widgets/controls",
            "_view_module_version": "1.5.0",
            "_view_name": "HBoxView",
            "box_style": "",
            "children": [
              "IPY_MODEL_c5d6989d5fab4f8b901a8c2914f84875",
              "IPY_MODEL_3872d94a44094f1996609676da2be417",
              "IPY_MODEL_a97f8dba05c9439caf9239e5d44ae760"
            ],
            "layout": "IPY_MODEL_febc7f85e00e4482923815f7153404e5"
          }
        },
        "c5d6989d5fab4f8b901a8c2914f84875": {
          "model_module": "@jupyter-widgets/controls",
          "model_name": "HTMLModel",
          "model_module_version": "1.5.0",
          "state": {
            "_dom_classes": [],
            "_model_module": "@jupyter-widgets/controls",
            "_model_module_version": "1.5.0",
            "_model_name": "HTMLModel",
            "_view_count": null,
            "_view_module": "@jupyter-widgets/controls",
            "_view_module_version": "1.5.0",
            "_view_name": "HTMLView",
            "description": "",
            "description_tooltip": null,
            "layout": "IPY_MODEL_9f0e34eab5d74c5db9a1a9f94b857d7b",
            "placeholder": "​",
            "style": "IPY_MODEL_80264807e117435eabe4d94c0787a1c0",
            "value": "Downloading: 100%"
          }
        },
        "3872d94a44094f1996609676da2be417": {
          "model_module": "@jupyter-widgets/controls",
          "model_name": "FloatProgressModel",
          "model_module_version": "1.5.0",
          "state": {
            "_dom_classes": [],
            "_model_module": "@jupyter-widgets/controls",
            "_model_module_version": "1.5.0",
            "_model_name": "FloatProgressModel",
            "_view_count": null,
            "_view_module": "@jupyter-widgets/controls",
            "_view_module_version": "1.5.0",
            "_view_name": "ProgressView",
            "bar_style": "success",
            "description": "",
            "description_tooltip": null,
            "layout": "IPY_MODEL_5f043958755c4ba9ae75f2f9fd4ae127",
            "max": 755569,
            "min": 0,
            "orientation": "horizontal",
            "style": "IPY_MODEL_11ed7b414b4641a7bb8ee60ebccdd233",
            "value": 755569
          }
        },
        "a97f8dba05c9439caf9239e5d44ae760": {
          "model_module": "@jupyter-widgets/controls",
          "model_name": "HTMLModel",
          "model_module_version": "1.5.0",
          "state": {
            "_dom_classes": [],
            "_model_module": "@jupyter-widgets/controls",
            "_model_module_version": "1.5.0",
            "_model_name": "HTMLModel",
            "_view_count": null,
            "_view_module": "@jupyter-widgets/controls",
            "_view_module_version": "1.5.0",
            "_view_name": "HTMLView",
            "description": "",
            "description_tooltip": null,
            "layout": "IPY_MODEL_54cc86c9db444135b714d83346f328a8",
            "placeholder": "​",
            "style": "IPY_MODEL_284c8ba6f70b48be8e37b9aed9cbc188",
            "value": " 738k/738k [00:00&lt;00:00, 827kB/s]"
          }
        },
        "febc7f85e00e4482923815f7153404e5": {
          "model_module": "@jupyter-widgets/base",
          "model_name": "LayoutModel",
          "model_module_version": "1.2.0",
          "state": {
            "_model_module": "@jupyter-widgets/base",
            "_model_module_version": "1.2.0",
            "_model_name": "LayoutModel",
            "_view_count": null,
            "_view_module": "@jupyter-widgets/base",
            "_view_module_version": "1.2.0",
            "_view_name": "LayoutView",
            "align_content": null,
            "align_items": null,
            "align_self": null,
            "border": null,
            "bottom": null,
            "display": null,
            "flex": null,
            "flex_flow": null,
            "grid_area": null,
            "grid_auto_columns": null,
            "grid_auto_flow": null,
            "grid_auto_rows": null,
            "grid_column": null,
            "grid_gap": null,
            "grid_row": null,
            "grid_template_areas": null,
            "grid_template_columns": null,
            "grid_template_rows": null,
            "height": null,
            "justify_content": null,
            "justify_items": null,
            "left": null,
            "margin": null,
            "max_height": null,
            "max_width": null,
            "min_height": null,
            "min_width": null,
            "object_fit": null,
            "object_position": null,
            "order": null,
            "overflow": null,
            "overflow_x": null,
            "overflow_y": null,
            "padding": null,
            "right": null,
            "top": null,
            "visibility": null,
            "width": null
          }
        },
        "9f0e34eab5d74c5db9a1a9f94b857d7b": {
          "model_module": "@jupyter-widgets/base",
          "model_name": "LayoutModel",
          "model_module_version": "1.2.0",
          "state": {
            "_model_module": "@jupyter-widgets/base",
            "_model_module_version": "1.2.0",
            "_model_name": "LayoutModel",
            "_view_count": null,
            "_view_module": "@jupyter-widgets/base",
            "_view_module_version": "1.2.0",
            "_view_name": "LayoutView",
            "align_content": null,
            "align_items": null,
            "align_self": null,
            "border": null,
            "bottom": null,
            "display": null,
            "flex": null,
            "flex_flow": null,
            "grid_area": null,
            "grid_auto_columns": null,
            "grid_auto_flow": null,
            "grid_auto_rows": null,
            "grid_column": null,
            "grid_gap": null,
            "grid_row": null,
            "grid_template_areas": null,
            "grid_template_columns": null,
            "grid_template_rows": null,
            "height": null,
            "justify_content": null,
            "justify_items": null,
            "left": null,
            "margin": null,
            "max_height": null,
            "max_width": null,
            "min_height": null,
            "min_width": null,
            "object_fit": null,
            "object_position": null,
            "order": null,
            "overflow": null,
            "overflow_x": null,
            "overflow_y": null,
            "padding": null,
            "right": null,
            "top": null,
            "visibility": null,
            "width": null
          }
        },
        "80264807e117435eabe4d94c0787a1c0": {
          "model_module": "@jupyter-widgets/controls",
          "model_name": "DescriptionStyleModel",
          "model_module_version": "1.5.0",
          "state": {
            "_model_module": "@jupyter-widgets/controls",
            "_model_module_version": "1.5.0",
            "_model_name": "DescriptionStyleModel",
            "_view_count": null,
            "_view_module": "@jupyter-widgets/base",
            "_view_module_version": "1.2.0",
            "_view_name": "StyleView",
            "description_width": ""
          }
        },
        "5f043958755c4ba9ae75f2f9fd4ae127": {
          "model_module": "@jupyter-widgets/base",
          "model_name": "LayoutModel",
          "model_module_version": "1.2.0",
          "state": {
            "_model_module": "@jupyter-widgets/base",
            "_model_module_version": "1.2.0",
            "_model_name": "LayoutModel",
            "_view_count": null,
            "_view_module": "@jupyter-widgets/base",
            "_view_module_version": "1.2.0",
            "_view_name": "LayoutView",
            "align_content": null,
            "align_items": null,
            "align_self": null,
            "border": null,
            "bottom": null,
            "display": null,
            "flex": null,
            "flex_flow": null,
            "grid_area": null,
            "grid_auto_columns": null,
            "grid_auto_flow": null,
            "grid_auto_rows": null,
            "grid_column": null,
            "grid_gap": null,
            "grid_row": null,
            "grid_template_areas": null,
            "grid_template_columns": null,
            "grid_template_rows": null,
            "height": null,
            "justify_content": null,
            "justify_items": null,
            "left": null,
            "margin": null,
            "max_height": null,
            "max_width": null,
            "min_height": null,
            "min_width": null,
            "object_fit": null,
            "object_position": null,
            "order": null,
            "overflow": null,
            "overflow_x": null,
            "overflow_y": null,
            "padding": null,
            "right": null,
            "top": null,
            "visibility": null,
            "width": null
          }
        },
        "11ed7b414b4641a7bb8ee60ebccdd233": {
          "model_module": "@jupyter-widgets/controls",
          "model_name": "ProgressStyleModel",
          "model_module_version": "1.5.0",
          "state": {
            "_model_module": "@jupyter-widgets/controls",
            "_model_module_version": "1.5.0",
            "_model_name": "ProgressStyleModel",
            "_view_count": null,
            "_view_module": "@jupyter-widgets/base",
            "_view_module_version": "1.2.0",
            "_view_name": "StyleView",
            "bar_color": null,
            "description_width": ""
          }
        },
        "54cc86c9db444135b714d83346f328a8": {
          "model_module": "@jupyter-widgets/base",
          "model_name": "LayoutModel",
          "model_module_version": "1.2.0",
          "state": {
            "_model_module": "@jupyter-widgets/base",
            "_model_module_version": "1.2.0",
            "_model_name": "LayoutModel",
            "_view_count": null,
            "_view_module": "@jupyter-widgets/base",
            "_view_module_version": "1.2.0",
            "_view_name": "LayoutView",
            "align_content": null,
            "align_items": null,
            "align_self": null,
            "border": null,
            "bottom": null,
            "display": null,
            "flex": null,
            "flex_flow": null,
            "grid_area": null,
            "grid_auto_columns": null,
            "grid_auto_flow": null,
            "grid_auto_rows": null,
            "grid_column": null,
            "grid_gap": null,
            "grid_row": null,
            "grid_template_areas": null,
            "grid_template_columns": null,
            "grid_template_rows": null,
            "height": null,
            "justify_content": null,
            "justify_items": null,
            "left": null,
            "margin": null,
            "max_height": null,
            "max_width": null,
            "min_height": null,
            "min_width": null,
            "object_fit": null,
            "object_position": null,
            "order": null,
            "overflow": null,
            "overflow_x": null,
            "overflow_y": null,
            "padding": null,
            "right": null,
            "top": null,
            "visibility": null,
            "width": null
          }
        },
        "284c8ba6f70b48be8e37b9aed9cbc188": {
          "model_module": "@jupyter-widgets/controls",
          "model_name": "DescriptionStyleModel",
          "model_module_version": "1.5.0",
          "state": {
            "_model_module": "@jupyter-widgets/controls",
            "_model_module_version": "1.5.0",
            "_model_name": "DescriptionStyleModel",
            "_view_count": null,
            "_view_module": "@jupyter-widgets/base",
            "_view_module_version": "1.2.0",
            "_view_name": "StyleView",
            "description_width": ""
          }
        },
        "1e4d1efed9364e29b7bc0114f54b3d5f": {
          "model_module": "@jupyter-widgets/controls",
          "model_name": "HBoxModel",
          "model_module_version": "1.5.0",
          "state": {
            "_dom_classes": [],
            "_model_module": "@jupyter-widgets/controls",
            "_model_module_version": "1.5.0",
            "_model_name": "HBoxModel",
            "_view_count": null,
            "_view_module": "@jupyter-widgets/controls",
            "_view_module_version": "1.5.0",
            "_view_name": "HBoxView",
            "box_style": "",
            "children": [
              "IPY_MODEL_b4bffcb706bd4ba1907ed821d2aa71c5",
              "IPY_MODEL_4cf0eee0dbd5448ea4b340ad1e8baeba",
              "IPY_MODEL_266eb7ffbb214e5e9523948815c7742a"
            ],
            "layout": "IPY_MODEL_3b9eb558b46448749973ea31c0594f5e"
          }
        },
        "b4bffcb706bd4ba1907ed821d2aa71c5": {
          "model_module": "@jupyter-widgets/controls",
          "model_name": "HTMLModel",
          "model_module_version": "1.5.0",
          "state": {
            "_dom_classes": [],
            "_model_module": "@jupyter-widgets/controls",
            "_model_module_version": "1.5.0",
            "_model_name": "HTMLModel",
            "_view_count": null,
            "_view_module": "@jupyter-widgets/controls",
            "_view_module_version": "1.5.0",
            "_view_name": "HTMLView",
            "description": "",
            "description_tooltip": null,
            "layout": "IPY_MODEL_3fa91d7e35ff494ca50cf851f462b16b",
            "placeholder": "​",
            "style": "IPY_MODEL_56e4287bacc84999bff34b71eec07310",
            "value": "Downloading: 100%"
          }
        },
        "4cf0eee0dbd5448ea4b340ad1e8baeba": {
          "model_module": "@jupyter-widgets/controls",
          "model_name": "FloatProgressModel",
          "model_module_version": "1.5.0",
          "state": {
            "_dom_classes": [],
            "_model_module": "@jupyter-widgets/controls",
            "_model_module_version": "1.5.0",
            "_model_name": "FloatProgressModel",
            "_view_count": null,
            "_view_module": "@jupyter-widgets/controls",
            "_view_module_version": "1.5.0",
            "_view_name": "ProgressView",
            "bar_style": "success",
            "description": "",
            "description_tooltip": null,
            "layout": "IPY_MODEL_5933f6b9fd874929a9300128236887ef",
            "max": 456,
            "min": 0,
            "orientation": "horizontal",
            "style": "IPY_MODEL_246447e5e85344dc941190e40f90324d",
            "value": 456
          }
        },
        "266eb7ffbb214e5e9523948815c7742a": {
          "model_module": "@jupyter-widgets/controls",
          "model_name": "HTMLModel",
          "model_module_version": "1.5.0",
          "state": {
            "_dom_classes": [],
            "_model_module": "@jupyter-widgets/controls",
            "_model_module_version": "1.5.0",
            "_model_name": "HTMLModel",
            "_view_count": null,
            "_view_module": "@jupyter-widgets/controls",
            "_view_module_version": "1.5.0",
            "_view_name": "HTMLView",
            "description": "",
            "description_tooltip": null,
            "layout": "IPY_MODEL_1e4f9ffa844f472bb490fac79af2ff5e",
            "placeholder": "​",
            "style": "IPY_MODEL_d4da8a9e93c54a09b95e0ee601344738",
            "value": " 456/456 [00:00&lt;00:00, 14.8kB/s]"
          }
        },
        "3b9eb558b46448749973ea31c0594f5e": {
          "model_module": "@jupyter-widgets/base",
          "model_name": "LayoutModel",
          "model_module_version": "1.2.0",
          "state": {
            "_model_module": "@jupyter-widgets/base",
            "_model_module_version": "1.2.0",
            "_model_name": "LayoutModel",
            "_view_count": null,
            "_view_module": "@jupyter-widgets/base",
            "_view_module_version": "1.2.0",
            "_view_name": "LayoutView",
            "align_content": null,
            "align_items": null,
            "align_self": null,
            "border": null,
            "bottom": null,
            "display": null,
            "flex": null,
            "flex_flow": null,
            "grid_area": null,
            "grid_auto_columns": null,
            "grid_auto_flow": null,
            "grid_auto_rows": null,
            "grid_column": null,
            "grid_gap": null,
            "grid_row": null,
            "grid_template_areas": null,
            "grid_template_columns": null,
            "grid_template_rows": null,
            "height": null,
            "justify_content": null,
            "justify_items": null,
            "left": null,
            "margin": null,
            "max_height": null,
            "max_width": null,
            "min_height": null,
            "min_width": null,
            "object_fit": null,
            "object_position": null,
            "order": null,
            "overflow": null,
            "overflow_x": null,
            "overflow_y": null,
            "padding": null,
            "right": null,
            "top": null,
            "visibility": null,
            "width": null
          }
        },
        "3fa91d7e35ff494ca50cf851f462b16b": {
          "model_module": "@jupyter-widgets/base",
          "model_name": "LayoutModel",
          "model_module_version": "1.2.0",
          "state": {
            "_model_module": "@jupyter-widgets/base",
            "_model_module_version": "1.2.0",
            "_model_name": "LayoutModel",
            "_view_count": null,
            "_view_module": "@jupyter-widgets/base",
            "_view_module_version": "1.2.0",
            "_view_name": "LayoutView",
            "align_content": null,
            "align_items": null,
            "align_self": null,
            "border": null,
            "bottom": null,
            "display": null,
            "flex": null,
            "flex_flow": null,
            "grid_area": null,
            "grid_auto_columns": null,
            "grid_auto_flow": null,
            "grid_auto_rows": null,
            "grid_column": null,
            "grid_gap": null,
            "grid_row": null,
            "grid_template_areas": null,
            "grid_template_columns": null,
            "grid_template_rows": null,
            "height": null,
            "justify_content": null,
            "justify_items": null,
            "left": null,
            "margin": null,
            "max_height": null,
            "max_width": null,
            "min_height": null,
            "min_width": null,
            "object_fit": null,
            "object_position": null,
            "order": null,
            "overflow": null,
            "overflow_x": null,
            "overflow_y": null,
            "padding": null,
            "right": null,
            "top": null,
            "visibility": null,
            "width": null
          }
        },
        "56e4287bacc84999bff34b71eec07310": {
          "model_module": "@jupyter-widgets/controls",
          "model_name": "DescriptionStyleModel",
          "model_module_version": "1.5.0",
          "state": {
            "_model_module": "@jupyter-widgets/controls",
            "_model_module_version": "1.5.0",
            "_model_name": "DescriptionStyleModel",
            "_view_count": null,
            "_view_module": "@jupyter-widgets/base",
            "_view_module_version": "1.2.0",
            "_view_name": "StyleView",
            "description_width": ""
          }
        },
        "5933f6b9fd874929a9300128236887ef": {
          "model_module": "@jupyter-widgets/base",
          "model_name": "LayoutModel",
          "model_module_version": "1.2.0",
          "state": {
            "_model_module": "@jupyter-widgets/base",
            "_model_module_version": "1.2.0",
            "_model_name": "LayoutModel",
            "_view_count": null,
            "_view_module": "@jupyter-widgets/base",
            "_view_module_version": "1.2.0",
            "_view_name": "LayoutView",
            "align_content": null,
            "align_items": null,
            "align_self": null,
            "border": null,
            "bottom": null,
            "display": null,
            "flex": null,
            "flex_flow": null,
            "grid_area": null,
            "grid_auto_columns": null,
            "grid_auto_flow": null,
            "grid_auto_rows": null,
            "grid_column": null,
            "grid_gap": null,
            "grid_row": null,
            "grid_template_areas": null,
            "grid_template_columns": null,
            "grid_template_rows": null,
            "height": null,
            "justify_content": null,
            "justify_items": null,
            "left": null,
            "margin": null,
            "max_height": null,
            "max_width": null,
            "min_height": null,
            "min_width": null,
            "object_fit": null,
            "object_position": null,
            "order": null,
            "overflow": null,
            "overflow_x": null,
            "overflow_y": null,
            "padding": null,
            "right": null,
            "top": null,
            "visibility": null,
            "width": null
          }
        },
        "246447e5e85344dc941190e40f90324d": {
          "model_module": "@jupyter-widgets/controls",
          "model_name": "ProgressStyleModel",
          "model_module_version": "1.5.0",
          "state": {
            "_model_module": "@jupyter-widgets/controls",
            "_model_module_version": "1.5.0",
            "_model_name": "ProgressStyleModel",
            "_view_count": null,
            "_view_module": "@jupyter-widgets/base",
            "_view_module_version": "1.2.0",
            "_view_name": "StyleView",
            "bar_color": null,
            "description_width": ""
          }
        },
        "1e4f9ffa844f472bb490fac79af2ff5e": {
          "model_module": "@jupyter-widgets/base",
          "model_name": "LayoutModel",
          "model_module_version": "1.2.0",
          "state": {
            "_model_module": "@jupyter-widgets/base",
            "_model_module_version": "1.2.0",
            "_model_name": "LayoutModel",
            "_view_count": null,
            "_view_module": "@jupyter-widgets/base",
            "_view_module_version": "1.2.0",
            "_view_name": "LayoutView",
            "align_content": null,
            "align_items": null,
            "align_self": null,
            "border": null,
            "bottom": null,
            "display": null,
            "flex": null,
            "flex_flow": null,
            "grid_area": null,
            "grid_auto_columns": null,
            "grid_auto_flow": null,
            "grid_auto_rows": null,
            "grid_column": null,
            "grid_gap": null,
            "grid_row": null,
            "grid_template_areas": null,
            "grid_template_columns": null,
            "grid_template_rows": null,
            "height": null,
            "justify_content": null,
            "justify_items": null,
            "left": null,
            "margin": null,
            "max_height": null,
            "max_width": null,
            "min_height": null,
            "min_width": null,
            "object_fit": null,
            "object_position": null,
            "order": null,
            "overflow": null,
            "overflow_x": null,
            "overflow_y": null,
            "padding": null,
            "right": null,
            "top": null,
            "visibility": null,
            "width": null
          }
        },
        "d4da8a9e93c54a09b95e0ee601344738": {
          "model_module": "@jupyter-widgets/controls",
          "model_name": "DescriptionStyleModel",
          "model_module_version": "1.5.0",
          "state": {
            "_model_module": "@jupyter-widgets/controls",
            "_model_module_version": "1.5.0",
            "_model_name": "DescriptionStyleModel",
            "_view_count": null,
            "_view_module": "@jupyter-widgets/base",
            "_view_module_version": "1.2.0",
            "_view_name": "StyleView",
            "description_width": ""
          }
        },
        "9ca19b4b150240799b53fad3305da76c": {
          "model_module": "@jupyter-widgets/controls",
          "model_name": "HBoxModel",
          "model_module_version": "1.5.0",
          "state": {
            "_dom_classes": [],
            "_model_module": "@jupyter-widgets/controls",
            "_model_module_version": "1.5.0",
            "_model_name": "HBoxModel",
            "_view_count": null,
            "_view_module": "@jupyter-widgets/controls",
            "_view_module_version": "1.5.0",
            "_view_name": "HBoxView",
            "box_style": "",
            "children": [
              "IPY_MODEL_bfcfea0387d9406ea3827d05c511949c",
              "IPY_MODEL_df7fbeb26d0f432599a028f1696e71d7",
              "IPY_MODEL_d39538611a8449078d40818fc9b5fb55"
            ],
            "layout": "IPY_MODEL_a843d5ac60bf4a27b8f12e8c5e4d5b3a"
          }
        },
        "bfcfea0387d9406ea3827d05c511949c": {
          "model_module": "@jupyter-widgets/controls",
          "model_name": "HTMLModel",
          "model_module_version": "1.5.0",
          "state": {
            "_dom_classes": [],
            "_model_module": "@jupyter-widgets/controls",
            "_model_module_version": "1.5.0",
            "_model_name": "HTMLModel",
            "_view_count": null,
            "_view_module": "@jupyter-widgets/controls",
            "_view_module_version": "1.5.0",
            "_view_name": "HTMLView",
            "description": "",
            "description_tooltip": null,
            "layout": "IPY_MODEL_32d8fa96840d4351a865e77666033448",
            "placeholder": "​",
            "style": "IPY_MODEL_b5fff062a6f044bcb83043248cf83dc1",
            "value": "Downloading: 100%"
          }
        },
        "df7fbeb26d0f432599a028f1696e71d7": {
          "model_module": "@jupyter-widgets/controls",
          "model_name": "FloatProgressModel",
          "model_module_version": "1.5.0",
          "state": {
            "_dom_classes": [],
            "_model_module": "@jupyter-widgets/controls",
            "_model_module_version": "1.5.0",
            "_model_name": "FloatProgressModel",
            "_view_count": null,
            "_view_module": "@jupyter-widgets/controls",
            "_view_module_version": "1.5.0",
            "_view_name": "ProgressView",
            "bar_style": "success",
            "description": "",
            "description_tooltip": null,
            "layout": "IPY_MODEL_0b5d5c359def44fdac7f28f68b3769ca",
            "max": 891688708,
            "min": 0,
            "orientation": "horizontal",
            "style": "IPY_MODEL_097476a69a104b58b14a4c279d217553",
            "value": 891688708
          }
        },
        "d39538611a8449078d40818fc9b5fb55": {
          "model_module": "@jupyter-widgets/controls",
          "model_name": "HTMLModel",
          "model_module_version": "1.5.0",
          "state": {
            "_dom_classes": [],
            "_model_module": "@jupyter-widgets/controls",
            "_model_module_version": "1.5.0",
            "_model_name": "HTMLModel",
            "_view_count": null,
            "_view_module": "@jupyter-widgets/controls",
            "_view_module_version": "1.5.0",
            "_view_name": "HTMLView",
            "description": "",
            "description_tooltip": null,
            "layout": "IPY_MODEL_293ca747dac243f9b0d833be0cd9abf1",
            "placeholder": "​",
            "style": "IPY_MODEL_4ce57354e2c24319bc5f60bb690e51c8",
            "value": " 850M/850M [00:16&lt;00:00, 51.4MB/s]"
          }
        },
        "a843d5ac60bf4a27b8f12e8c5e4d5b3a": {
          "model_module": "@jupyter-widgets/base",
          "model_name": "LayoutModel",
          "model_module_version": "1.2.0",
          "state": {
            "_model_module": "@jupyter-widgets/base",
            "_model_module_version": "1.2.0",
            "_model_name": "LayoutModel",
            "_view_count": null,
            "_view_module": "@jupyter-widgets/base",
            "_view_module_version": "1.2.0",
            "_view_name": "LayoutView",
            "align_content": null,
            "align_items": null,
            "align_self": null,
            "border": null,
            "bottom": null,
            "display": null,
            "flex": null,
            "flex_flow": null,
            "grid_area": null,
            "grid_auto_columns": null,
            "grid_auto_flow": null,
            "grid_auto_rows": null,
            "grid_column": null,
            "grid_gap": null,
            "grid_row": null,
            "grid_template_areas": null,
            "grid_template_columns": null,
            "grid_template_rows": null,
            "height": null,
            "justify_content": null,
            "justify_items": null,
            "left": null,
            "margin": null,
            "max_height": null,
            "max_width": null,
            "min_height": null,
            "min_width": null,
            "object_fit": null,
            "object_position": null,
            "order": null,
            "overflow": null,
            "overflow_x": null,
            "overflow_y": null,
            "padding": null,
            "right": null,
            "top": null,
            "visibility": null,
            "width": null
          }
        },
        "32d8fa96840d4351a865e77666033448": {
          "model_module": "@jupyter-widgets/base",
          "model_name": "LayoutModel",
          "model_module_version": "1.2.0",
          "state": {
            "_model_module": "@jupyter-widgets/base",
            "_model_module_version": "1.2.0",
            "_model_name": "LayoutModel",
            "_view_count": null,
            "_view_module": "@jupyter-widgets/base",
            "_view_module_version": "1.2.0",
            "_view_name": "LayoutView",
            "align_content": null,
            "align_items": null,
            "align_self": null,
            "border": null,
            "bottom": null,
            "display": null,
            "flex": null,
            "flex_flow": null,
            "grid_area": null,
            "grid_auto_columns": null,
            "grid_auto_flow": null,
            "grid_auto_rows": null,
            "grid_column": null,
            "grid_gap": null,
            "grid_row": null,
            "grid_template_areas": null,
            "grid_template_columns": null,
            "grid_template_rows": null,
            "height": null,
            "justify_content": null,
            "justify_items": null,
            "left": null,
            "margin": null,
            "max_height": null,
            "max_width": null,
            "min_height": null,
            "min_width": null,
            "object_fit": null,
            "object_position": null,
            "order": null,
            "overflow": null,
            "overflow_x": null,
            "overflow_y": null,
            "padding": null,
            "right": null,
            "top": null,
            "visibility": null,
            "width": null
          }
        },
        "b5fff062a6f044bcb83043248cf83dc1": {
          "model_module": "@jupyter-widgets/controls",
          "model_name": "DescriptionStyleModel",
          "model_module_version": "1.5.0",
          "state": {
            "_model_module": "@jupyter-widgets/controls",
            "_model_module_version": "1.5.0",
            "_model_name": "DescriptionStyleModel",
            "_view_count": null,
            "_view_module": "@jupyter-widgets/base",
            "_view_module_version": "1.2.0",
            "_view_name": "StyleView",
            "description_width": ""
          }
        },
        "0b5d5c359def44fdac7f28f68b3769ca": {
          "model_module": "@jupyter-widgets/base",
          "model_name": "LayoutModel",
          "model_module_version": "1.2.0",
          "state": {
            "_model_module": "@jupyter-widgets/base",
            "_model_module_version": "1.2.0",
            "_model_name": "LayoutModel",
            "_view_count": null,
            "_view_module": "@jupyter-widgets/base",
            "_view_module_version": "1.2.0",
            "_view_name": "LayoutView",
            "align_content": null,
            "align_items": null,
            "align_self": null,
            "border": null,
            "bottom": null,
            "display": null,
            "flex": null,
            "flex_flow": null,
            "grid_area": null,
            "grid_auto_columns": null,
            "grid_auto_flow": null,
            "grid_auto_rows": null,
            "grid_column": null,
            "grid_gap": null,
            "grid_row": null,
            "grid_template_areas": null,
            "grid_template_columns": null,
            "grid_template_rows": null,
            "height": null,
            "justify_content": null,
            "justify_items": null,
            "left": null,
            "margin": null,
            "max_height": null,
            "max_width": null,
            "min_height": null,
            "min_width": null,
            "object_fit": null,
            "object_position": null,
            "order": null,
            "overflow": null,
            "overflow_x": null,
            "overflow_y": null,
            "padding": null,
            "right": null,
            "top": null,
            "visibility": null,
            "width": null
          }
        },
        "097476a69a104b58b14a4c279d217553": {
          "model_module": "@jupyter-widgets/controls",
          "model_name": "ProgressStyleModel",
          "model_module_version": "1.5.0",
          "state": {
            "_model_module": "@jupyter-widgets/controls",
            "_model_module_version": "1.5.0",
            "_model_name": "ProgressStyleModel",
            "_view_count": null,
            "_view_module": "@jupyter-widgets/base",
            "_view_module_version": "1.2.0",
            "_view_name": "StyleView",
            "bar_color": null,
            "description_width": ""
          }
        },
        "293ca747dac243f9b0d833be0cd9abf1": {
          "model_module": "@jupyter-widgets/base",
          "model_name": "LayoutModel",
          "model_module_version": "1.2.0",
          "state": {
            "_model_module": "@jupyter-widgets/base",
            "_model_module_version": "1.2.0",
            "_model_name": "LayoutModel",
            "_view_count": null,
            "_view_module": "@jupyter-widgets/base",
            "_view_module_version": "1.2.0",
            "_view_name": "LayoutView",
            "align_content": null,
            "align_items": null,
            "align_self": null,
            "border": null,
            "bottom": null,
            "display": null,
            "flex": null,
            "flex_flow": null,
            "grid_area": null,
            "grid_auto_columns": null,
            "grid_auto_flow": null,
            "grid_auto_rows": null,
            "grid_column": null,
            "grid_gap": null,
            "grid_row": null,
            "grid_template_areas": null,
            "grid_template_columns": null,
            "grid_template_rows": null,
            "height": null,
            "justify_content": null,
            "justify_items": null,
            "left": null,
            "margin": null,
            "max_height": null,
            "max_width": null,
            "min_height": null,
            "min_width": null,
            "object_fit": null,
            "object_position": null,
            "order": null,
            "overflow": null,
            "overflow_x": null,
            "overflow_y": null,
            "padding": null,
            "right": null,
            "top": null,
            "visibility": null,
            "width": null
          }
        },
        "4ce57354e2c24319bc5f60bb690e51c8": {
          "model_module": "@jupyter-widgets/controls",
          "model_name": "DescriptionStyleModel",
          "model_module_version": "1.5.0",
          "state": {
            "_model_module": "@jupyter-widgets/controls",
            "_model_module_version": "1.5.0",
            "_model_name": "DescriptionStyleModel",
            "_view_count": null,
            "_view_module": "@jupyter-widgets/base",
            "_view_module_version": "1.2.0",
            "_view_name": "StyleView",
            "description_width": ""
          }
        }
      }
    }
  },
  "nbformat": 4,
  "nbformat_minor": 0
}