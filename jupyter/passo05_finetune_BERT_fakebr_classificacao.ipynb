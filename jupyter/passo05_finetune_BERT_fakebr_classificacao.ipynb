{
  "cells": [
    {
      "cell_type": "markdown",
      "metadata": {
        "id": "view-in-github",
        "colab_type": "text"
      },
      "source": [
        "<a href=\"https://colab.research.google.com/github/caesarcc/python-tcc-url-fakenews-check/blob/main/jupyter/passo05_finetune_BERT_fakebr_classificacao.ipynb\" target=\"_parent\"><img src=\"https://colab.research.google.com/assets/colab-badge.svg\" alt=\"Open In Colab\"/></a>"
      ]
    },
    {
      "cell_type": "markdown",
      "metadata": {
        "id": "tL4PrRZuPyTz"
      },
      "source": [
        "### Configuração para rodar no Goolge Colab    \n",
        "O treinamento no Colab levou pouco menos de uma hora, enquanto no computador local indicou que levaria mais de 2 dias.   \n",
        "As primeiras célucas devem ser executadas para instalar a arquitetura de transformers e liberar o acesso ao drive do Colab.  \n",
        "O arquivo .csv de entrada pode ser enviado por upload."
      ]
    },
    {
      "cell_type": "code",
      "execution_count": 2,
      "metadata": {
        "colab": {
          "base_uri": "https://localhost:8080/"
        },
        "id": "GLWPP5tE97EJ",
        "outputId": "26553b0e-fda3-4028-8483-dc34a58c5b51"
      },
      "outputs": [
        {
          "output_type": "stream",
          "name": "stdout",
          "text": [
            "\u001b[K     |████████████████████████████████| 4.2 MB 6.8 MB/s \n",
            "\u001b[K     |████████████████████████████████| 6.6 MB 61.5 MB/s \n",
            "\u001b[K     |████████████████████████████████| 596 kB 74.0 MB/s \n",
            "\u001b[K     |████████████████████████████████| 84 kB 2.6 MB/s \n",
            "\u001b[?25h"
          ]
        }
      ],
      "source": [
        "!pip install -q transformers"
      ]
    },
    {
      "cell_type": "code",
      "execution_count": 3,
      "metadata": {
        "colab": {
          "base_uri": "https://localhost:8080/"
        },
        "id": "3EZomSUMMKAf",
        "outputId": "47557e68-ba2a-4a2e-8d41-292417a357b2"
      },
      "outputs": [
        {
          "output_type": "stream",
          "name": "stdout",
          "text": [
            "Mounted at /content/drive\n"
          ]
        }
      ],
      "source": [
        "from google.colab import drive\n",
        "drive.mount('/content/drive')"
      ]
    },
    {
      "cell_type": "markdown",
      "metadata": {
        "id": "k04XI2wn9ps9"
      },
      "source": [
        "## Treino e Avaliação do Modelo BERT em PT-BR"
      ]
    },
    {
      "cell_type": "code",
      "execution_count": 4,
      "metadata": {
        "cellView": "form",
        "id": "CPzAh59THwj1"
      },
      "outputs": [],
      "source": [
        "# Importação de bibliotecas utilizadas no treino e avaliação\n",
        "import datetime\n",
        "import random\n",
        "import time\n",
        "import numpy as np\n",
        "import pandas as pd\n",
        "import torch\n",
        "import matplotlib.pyplot as plt\n",
        "from IPython.display import display\n",
        "from sklearn.metrics import (accuracy_score, auc, classification_report,\n",
        "                             confusion_matrix, ConfusionMatrixDisplay, roc_curve)\n",
        "from torch.utils.data import (DataLoader, RandomSampler, SequentialSampler,\n",
        "                              TensorDataset)\n",
        "from transformers import (BertForSequenceClassification, BertTokenizer,\n",
        "                          get_linear_schedule_with_warmup)\n",
        "from transformers.file_utils import is_torch_available\n",
        "\n",
        "%matplotlib inline"
      ]
    },
    {
      "cell_type": "markdown",
      "metadata": {
        "id": "nYVq1HCgX5zB"
      },
      "source": [
        "### Carrega dados processados no passo 1"
      ]
    },
    {
      "cell_type": "code",
      "execution_count": 5,
      "metadata": {
        "colab": {
          "base_uri": "https://localhost:8080/"
        },
        "id": "GLNk1WPwXznk",
        "outputId": "3a56c457-59e7-47f6-cd94-acaea096fcf4"
      },
      "outputs": [
        {
          "output_type": "stream",
          "name": "stdout",
          "text": [
            "<class 'pandas.core.frame.DataFrame'>\n",
            "RangeIndex: 21289 entries, 0 to 21288\n",
            "Data columns (total 7 columns):\n",
            " #   Column                 Non-Null Count  Dtype \n",
            "---  ------                 --------------  ----- \n",
            " 0   Unnamed: 0             21289 non-null  int64 \n",
            " 1   texto                  21289 non-null  object\n",
            " 2   classe                 21289 non-null  int64 \n",
            " 3   texto_limpo            21289 non-null  object\n",
            " 4   texto_processado       21289 non-null  object\n",
            " 5   qtde_texto_limpo       21289 non-null  int64 \n",
            " 6   qtde_texto_processado  21289 non-null  int64 \n",
            "dtypes: int64(4), object(3)\n",
            "memory usage: 1.1+ MB\n"
          ]
        }
      ],
      "source": [
        "PLANILHA_DATASET = r'/content/drive/MyDrive/PUC/TCC/dados/whatsappbr_corpus_processado.csv'\n",
        "pd.set_option(\"display.max_rows\", 50, 'display.max_colwidth', 200)\n",
        "dados_processado = pd.read_csv(PLANILHA_DATASET, sep = ',')\n",
        "dados_processado.info()"
      ]
    },
    {
      "cell_type": "code",
      "execution_count": 6,
      "metadata": {
        "colab": {
          "base_uri": "https://localhost:8080/",
          "height": 292
        },
        "id": "czamoNkV9ptJ",
        "outputId": "91035c2b-92c5-4dab-b3fc-1c0bab502aad"
      },
      "outputs": [
        {
          "output_type": "execute_result",
          "data": {
            "text/plain": [
              "       classe  \\\n",
              "2105        0   \n",
              "13250       1   \n",
              "7821        0   \n",
              "\n",
              "                                                                                                                                                                                                         texto  \\\n",
              "2105   Oi galera.....independente em quem vcs irão votar, não se esqueçam de:\\n1. Levar uma colinha de seu candidato no BOLSO.\\n2. Na zona eleitoral, entrar e JAIR votando.\\n3. Não se esqueçam que a vota...   \n",
              "13250  Cronologia da desgraça anunciada:\\n1 - Outubro: Hadad, Ciro ou Marina no segundo turno com Bolsonaro.\\n\\n2- Novembro: Todos contra Bolsonaro. Ganha Hadad, Ciro ou Marina.\\n\\n3- Dilma eleita senado...   \n",
              "7821   Para descontrair!\\n\\n🤔 *Dizem que:*\\n*Lula é Haddad,*\\n*Haddad é Lula.*\\n*O que eu sei,*\\n*é que Lula tem 72 anos* \\n*e Haddad tem 55 anos.*\\n\\n*Resumindo:*\\n             *72 - 55 =*  1⃣7⃣\\n*A mat...   \n",
              "\n",
              "                                                                                                                                                                                              texto_processado  \\\n",
              "2105                         Oi galera.independente vcs ir votar , esquecer : 1 . Levar colinha candidatar BOLSO . 2 . zonar eleitoral , entrar JAIR votar . 3 . esquecer votação encerrar 17 . Anotem dica ai   \n",
              "13250  Cronologia desgraçar anunciar : 1   Novembro : Bolsonaro . Ganha Hadad , Ciro Marina . 3 Janeiro : Dilma assumir presidência Senado , Gleisi assumir presidência Câmara . 5   Março : Lula assumir C...   \n",
              "7821                                                   descontrair ! : Lula Haddad , Haddad Lula . , Lula 72 ano * Haddad 55 ano . Resumindo : 72   55   matemático ciência exata , chorar livrar . aguentar !   \n",
              "\n",
              "       qtde_texto_processado  \n",
              "2105                      36  \n",
              "13250                     73  \n",
              "7821                      30  "
            ],
            "text/html": [
              "\n",
              "  <div id=\"df-47c2f026-4bce-4f0b-910c-801d44fd7d4f\">\n",
              "    <div class=\"colab-df-container\">\n",
              "      <div>\n",
              "<style scoped>\n",
              "    .dataframe tbody tr th:only-of-type {\n",
              "        vertical-align: middle;\n",
              "    }\n",
              "\n",
              "    .dataframe tbody tr th {\n",
              "        vertical-align: top;\n",
              "    }\n",
              "\n",
              "    .dataframe thead th {\n",
              "        text-align: right;\n",
              "    }\n",
              "</style>\n",
              "<table border=\"1\" class=\"dataframe\">\n",
              "  <thead>\n",
              "    <tr style=\"text-align: right;\">\n",
              "      <th></th>\n",
              "      <th>classe</th>\n",
              "      <th>texto</th>\n",
              "      <th>texto_processado</th>\n",
              "      <th>qtde_texto_processado</th>\n",
              "    </tr>\n",
              "  </thead>\n",
              "  <tbody>\n",
              "    <tr>\n",
              "      <th>2105</th>\n",
              "      <td>0</td>\n",
              "      <td>Oi galera.....independente em quem vcs irão votar, não se esqueçam de:\\n1. Levar uma colinha de seu candidato no BOLSO.\\n2. Na zona eleitoral, entrar e JAIR votando.\\n3. Não se esqueçam que a vota...</td>\n",
              "      <td>Oi galera.independente vcs ir votar , esquecer : 1 . Levar colinha candidatar BOLSO . 2 . zonar eleitoral , entrar JAIR votar . 3 . esquecer votação encerrar 17 . Anotem dica ai</td>\n",
              "      <td>36</td>\n",
              "    </tr>\n",
              "    <tr>\n",
              "      <th>13250</th>\n",
              "      <td>1</td>\n",
              "      <td>Cronologia da desgraça anunciada:\\n1 - Outubro: Hadad, Ciro ou Marina no segundo turno com Bolsonaro.\\n\\n2- Novembro: Todos contra Bolsonaro. Ganha Hadad, Ciro ou Marina.\\n\\n3- Dilma eleita senado...</td>\n",
              "      <td>Cronologia desgraçar anunciar : 1   Novembro : Bolsonaro . Ganha Hadad , Ciro Marina . 3 Janeiro : Dilma assumir presidência Senado , Gleisi assumir presidência Câmara . 5   Março : Lula assumir C...</td>\n",
              "      <td>73</td>\n",
              "    </tr>\n",
              "    <tr>\n",
              "      <th>7821</th>\n",
              "      <td>0</td>\n",
              "      <td>Para descontrair!\\n\\n🤔 *Dizem que:*\\n*Lula é Haddad,*\\n*Haddad é Lula.*\\n*O que eu sei,*\\n*é que Lula tem 72 anos* \\n*e Haddad tem 55 anos.*\\n\\n*Resumindo:*\\n             *72 - 55 =*  1⃣7⃣\\n*A mat...</td>\n",
              "      <td>descontrair ! : Lula Haddad , Haddad Lula . , Lula 72 ano * Haddad 55 ano . Resumindo : 72   55   matemático ciência exata , chorar livrar . aguentar !</td>\n",
              "      <td>30</td>\n",
              "    </tr>\n",
              "  </tbody>\n",
              "</table>\n",
              "</div>\n",
              "      <button class=\"colab-df-convert\" onclick=\"convertToInteractive('df-47c2f026-4bce-4f0b-910c-801d44fd7d4f')\"\n",
              "              title=\"Convert this dataframe to an interactive table.\"\n",
              "              style=\"display:none;\">\n",
              "        \n",
              "  <svg xmlns=\"http://www.w3.org/2000/svg\" height=\"24px\"viewBox=\"0 0 24 24\"\n",
              "       width=\"24px\">\n",
              "    <path d=\"M0 0h24v24H0V0z\" fill=\"none\"/>\n",
              "    <path d=\"M18.56 5.44l.94 2.06.94-2.06 2.06-.94-2.06-.94-.94-2.06-.94 2.06-2.06.94zm-11 1L8.5 8.5l.94-2.06 2.06-.94-2.06-.94L8.5 2.5l-.94 2.06-2.06.94zm10 10l.94 2.06.94-2.06 2.06-.94-2.06-.94-.94-2.06-.94 2.06-2.06.94z\"/><path d=\"M17.41 7.96l-1.37-1.37c-.4-.4-.92-.59-1.43-.59-.52 0-1.04.2-1.43.59L10.3 9.45l-7.72 7.72c-.78.78-.78 2.05 0 2.83L4 21.41c.39.39.9.59 1.41.59.51 0 1.02-.2 1.41-.59l7.78-7.78 2.81-2.81c.8-.78.8-2.07 0-2.86zM5.41 20L4 18.59l7.72-7.72 1.47 1.35L5.41 20z\"/>\n",
              "  </svg>\n",
              "      </button>\n",
              "      \n",
              "  <style>\n",
              "    .colab-df-container {\n",
              "      display:flex;\n",
              "      flex-wrap:wrap;\n",
              "      gap: 12px;\n",
              "    }\n",
              "\n",
              "    .colab-df-convert {\n",
              "      background-color: #E8F0FE;\n",
              "      border: none;\n",
              "      border-radius: 50%;\n",
              "      cursor: pointer;\n",
              "      display: none;\n",
              "      fill: #1967D2;\n",
              "      height: 32px;\n",
              "      padding: 0 0 0 0;\n",
              "      width: 32px;\n",
              "    }\n",
              "\n",
              "    .colab-df-convert:hover {\n",
              "      background-color: #E2EBFA;\n",
              "      box-shadow: 0px 1px 2px rgba(60, 64, 67, 0.3), 0px 1px 3px 1px rgba(60, 64, 67, 0.15);\n",
              "      fill: #174EA6;\n",
              "    }\n",
              "\n",
              "    [theme=dark] .colab-df-convert {\n",
              "      background-color: #3B4455;\n",
              "      fill: #D2E3FC;\n",
              "    }\n",
              "\n",
              "    [theme=dark] .colab-df-convert:hover {\n",
              "      background-color: #434B5C;\n",
              "      box-shadow: 0px 1px 3px 1px rgba(0, 0, 0, 0.15);\n",
              "      filter: drop-shadow(0px 1px 2px rgba(0, 0, 0, 0.3));\n",
              "      fill: #FFFFFF;\n",
              "    }\n",
              "  </style>\n",
              "\n",
              "      <script>\n",
              "        const buttonEl =\n",
              "          document.querySelector('#df-47c2f026-4bce-4f0b-910c-801d44fd7d4f button.colab-df-convert');\n",
              "        buttonEl.style.display =\n",
              "          google.colab.kernel.accessAllowed ? 'block' : 'none';\n",
              "\n",
              "        async function convertToInteractive(key) {\n",
              "          const element = document.querySelector('#df-47c2f026-4bce-4f0b-910c-801d44fd7d4f');\n",
              "          const dataTable =\n",
              "            await google.colab.kernel.invokeFunction('convertToInteractive',\n",
              "                                                     [key], {});\n",
              "          if (!dataTable) return;\n",
              "\n",
              "          const docLinkHtml = 'Like what you see? Visit the ' +\n",
              "            '<a target=\"_blank\" href=https://colab.research.google.com/notebooks/data_table.ipynb>data table notebook</a>'\n",
              "            + ' to learn more about interactive tables.';\n",
              "          element.innerHTML = '';\n",
              "          dataTable['output_type'] = 'display_data';\n",
              "          await google.colab.output.renderOutput(dataTable, element);\n",
              "          const docLink = document.createElement('div');\n",
              "          docLink.innerHTML = docLinkHtml;\n",
              "          element.appendChild(docLink);\n",
              "        }\n",
              "      </script>\n",
              "    </div>\n",
              "  </div>\n",
              "  "
            ]
          },
          "metadata": {},
          "execution_count": 6
        }
      ],
      "source": [
        "dados_processado[['classe','texto','texto_processado','qtde_texto_processado']].sample(n=3)"
      ]
    },
    {
      "cell_type": "markdown",
      "metadata": {
        "id": "kwgNPYpg9ptK"
      },
      "source": [
        "### Geração de seed  \n",
        "Com esta rotina consigo garantir a reprodução dos resultados mesmo que o ambiente for reiniciado\n",
        "Aplicável às libs random, numpy e torch"
      ]
    },
    {
      "cell_type": "code",
      "execution_count": 7,
      "metadata": {
        "id": "TwFrnP8c9ptL"
      },
      "outputs": [],
      "source": [
        "RANDOM_SEED = 42\n",
        "def garantir_reprodutividade(seed: int):\n",
        "    random.seed(seed)\n",
        "    np.random.seed(seed)\n",
        "    if is_torch_available():\n",
        "        torch.manual_seed(seed)\n",
        "        if torch.cuda.is_available():\n",
        "            torch.cuda.manual_seed_all(seed)\n",
        "            return \"cuda\"\n",
        "    return \"cpu\"\n",
        "\n",
        "device = garantir_reprodutividade(RANDOM_SEED)"
      ]
    },
    {
      "cell_type": "markdown",
      "metadata": {
        "id": "tlDLC7k59ptM"
      },
      "source": [
        "### Carregando o modelo pré-treinado BERTimbau"
      ]
    },
    {
      "cell_type": "code",
      "execution_count": 8,
      "metadata": {
        "id": "VQkF_nDy9ptM"
      },
      "outputs": [],
      "source": [
        "MODELO_BERT = \"/content/drive/MyDrive/PUC/TCC/modelos/bertimbau_avaliar_noticias\"\n",
        "model = BertForSequenceClassification.from_pretrained(MODELO_BERT, num_labels=2, output_attentions=False, output_hidden_states=False)\n",
        "tokenizer = BertTokenizer.from_pretrained(MODELO_BERT, do_lower_case=False)"
      ]
    },
    {
      "cell_type": "markdown",
      "metadata": {
        "id": "M3pg7FyNJ104"
      },
      "source": [
        "### Tokeniza textos"
      ]
    },
    {
      "cell_type": "code",
      "execution_count": 9,
      "metadata": {
        "id": "LrfnPVJKJoTt"
      },
      "outputs": [],
      "source": [
        "dados_token = dados_processado[['classe','texto_processado']].copy()\n",
        "dados_token['TOKENS'] = dados_token['texto_processado'].apply(lambda x: np.array(tokenizer.encode(x, padding='max_length', truncation=True, max_length=400)))\n",
        "dados_token['LABELS'] = dados_token['classe']\n",
        "dados_token = dados_token[['TOKENS','LABELS']]"
      ]
    },
    {
      "cell_type": "markdown",
      "metadata": {
        "id": "dX5aju8jZKFh"
      },
      "source": [
        "### Separando treino, teste e validação"
      ]
    },
    {
      "cell_type": "code",
      "execution_count": 10,
      "metadata": {
        "colab": {
          "base_uri": "https://localhost:8080/",
          "height": 35
        },
        "id": "hwm22AQqNwpS",
        "outputId": "fd3abe30-31e9-43c8-e3ef-4d063ea08160"
      },
      "outputs": [
        {
          "output_type": "display_data",
          "data": {
            "text/plain": [
              "'Treinamento: 14902, Teste: 4258, Validação: 2129'"
            ],
            "application/vnd.google.colaboratory.intrinsic+json": {
              "type": "string"
            }
          },
          "metadata": {}
        }
      ],
      "source": [
        "# Divido em 70% para treino e 20% para validação e o restante para teste, fracionado aleatoriamente e com random seed 42\n",
        "dados_treino, dados_validacao, dados_teste = np.split(dados_token.sample(frac=1), [int(.7*len(dados_token)), int(.8*len(dados_token))])\n",
        "display(f\"Treinamento: {dados_treino.shape[0]}, Teste: {dados_teste.shape[0]}, Validação: {dados_validacao.shape[0]}\")"
      ]
    },
    {
      "cell_type": "markdown",
      "metadata": {
        "id": "W2mpxeAm9ptO"
      },
      "source": [
        "### Geração dos tensores"
      ]
    },
    {
      "cell_type": "code",
      "execution_count": 11,
      "metadata": {
        "id": "zuc-8Qqh9ptP",
        "outputId": "ab5e83de-2e03-48b8-822a-5e23a9152dd3",
        "colab": {
          "base_uri": "https://localhost:8080/"
        }
      },
      "outputs": [
        {
          "output_type": "stream",
          "name": "stderr",
          "text": [
            "/usr/local/lib/python3.7/dist-packages/ipykernel_launcher.py:1: UserWarning: Creating a tensor from a list of numpy.ndarrays is extremely slow. Please consider converting the list to a single numpy.ndarray with numpy.array() before converting to a tensor. (Triggered internally at  ../torch/csrc/utils/tensor_new.cpp:210.)\n",
            "  \"\"\"Entry point for launching an IPython kernel.\n"
          ]
        }
      ],
      "source": [
        "treino_valores = torch.tensor(dados_treino['TOKENS'].values.tolist()).to(torch.int64)\n",
        "treino_classes = torch.tensor(np.array(dados_treino.LABELS.values)).to(torch.int64)\n",
        "validacao_valores = torch.tensor(dados_validacao['TOKENS'].values.tolist()).to(torch.int64)\n",
        "validacao_classes = torch.tensor(np.array(dados_validacao.LABELS.values)).to(torch.int64)\n",
        "teste_valores = torch.tensor(dados_teste['TOKENS'].values.tolist()).to(torch.int64)\n",
        "teste_classes = torch.tensor(np.array(dados_teste.LABELS.values)).to(torch.int64)"
      ]
    },
    {
      "cell_type": "markdown",
      "metadata": {
        "id": "gW018a4KMcai"
      },
      "source": [
        "### Preparando o fine-tunning do modelo BERTimbau"
      ]
    },
    {
      "cell_type": "code",
      "execution_count": 14,
      "metadata": {
        "id": "R5AI8b0mMhBC"
      },
      "outputs": [],
      "source": [
        "def format_time(elapsed):\n",
        "    elapsed_rounded = int(round((elapsed)))\n",
        "    return str(datetime.timedelta(seconds=elapsed_rounded))\n",
        "\n",
        "epocas = 5\n",
        "tamanho_lote = 16\n",
        "\n",
        "# gera dataset e leitor de dados de treino\n",
        "treino_dados = TensorDataset(treino_valores, treino_classes)\n",
        "treino_leitor = DataLoader(treino_dados, sampler=RandomSampler(treino_dados), batch_size=tamanho_lote)\n",
        "# gera dataset e leitor de dados de validação\n",
        "validacao_dados = TensorDataset(validacao_valores, validacao_classes)\n",
        "validacao_leitor = DataLoader(validacao_dados, sampler=SequentialSampler(validacao_dados), batch_size=tamanho_lote)"
      ]
    },
    {
      "cell_type": "code",
      "execution_count": 15,
      "metadata": {
        "id": "v6SyynC-MVwc"
      },
      "outputs": [],
      "source": [
        "# coleca modelo no divice disponível (cuda para GPU)\n",
        "model.to(device)\n",
        "\n",
        "passos_total = len(treino_leitor) * epocas\n",
        "# configuração do otimizador e do scheduler para controlar hyperparametros\n",
        "optimizer = torch.optim.AdamW(model.parameters(), lr = 2e-5, eps = 1e-8)\n",
        "scheduler = get_linear_schedule_with_warmup(optimizer, num_warmup_steps = 0, num_training_steps = passos_total)"
      ]
    },
    {
      "cell_type": "code",
      "execution_count": 16,
      "metadata": {
        "colab": {
          "base_uri": "https://localhost:8080/"
        },
        "id": "2bXucIRrNHAQ",
        "outputId": "a8f10931-c50b-4aff-ab6b-4bd1210682e7"
      },
      "outputs": [
        {
          "output_type": "stream",
          "name": "stdout",
          "text": [
            "\n",
            "======== Época 1 / 5 ========\n",
            "Treinando...\n",
            "  Passo    40  de    932.  Tempo decorrido: 0:00:26.\n",
            "  Passo    80  de    932.  Tempo decorrido: 0:00:51.\n",
            "  Passo   120  de    932.  Tempo decorrido: 0:01:16.\n",
            "  Passo   160  de    932.  Tempo decorrido: 0:01:42.\n",
            "  Passo   200  de    932.  Tempo decorrido: 0:02:07.\n",
            "  Passo   240  de    932.  Tempo decorrido: 0:02:32.\n",
            "  Passo   280  de    932.  Tempo decorrido: 0:02:58.\n",
            "  Passo   320  de    932.  Tempo decorrido: 0:03:23.\n",
            "  Passo   360  de    932.  Tempo decorrido: 0:03:48.\n",
            "  Passo   400  de    932.  Tempo decorrido: 0:04:14.\n",
            "  Passo   440  de    932.  Tempo decorrido: 0:04:39.\n",
            "  Passo   480  de    932.  Tempo decorrido: 0:05:05.\n",
            "  Passo   520  de    932.  Tempo decorrido: 0:05:30.\n",
            "  Passo   560  de    932.  Tempo decorrido: 0:05:55.\n",
            "  Passo   600  de    932.  Tempo decorrido: 0:06:21.\n",
            "  Passo   640  de    932.  Tempo decorrido: 0:06:46.\n",
            "  Passo   680  de    932.  Tempo decorrido: 0:07:11.\n",
            "  Passo   720  de    932.  Tempo decorrido: 0:07:37.\n",
            "  Passo   760  de    932.  Tempo decorrido: 0:08:02.\n",
            "  Passo   800  de    932.  Tempo decorrido: 0:08:28.\n",
            "  Passo   840  de    932.  Tempo decorrido: 0:08:53.\n",
            "  Passo   880  de    932.  Tempo decorrido: 0:09:18.\n",
            "  Passo   920  de    932.  Tempo decorrido: 0:09:44.\n",
            "\n",
            "  Média do loss de treino: 0.38\n",
            "  Tempo do treino: 0:09:51\n",
            "\n",
            "Validando...\n",
            "  Acurácia: 0.93\n",
            "  Loss de validação: 0.00\n",
            "  Tempo de validação: 0:00:27\n",
            "\n",
            "======== Época 2 / 5 ========\n",
            "Treinando...\n",
            "  Passo    40  de    932.  Tempo decorrido: 0:00:25.\n",
            "  Passo    80  de    932.  Tempo decorrido: 0:00:51.\n",
            "  Passo   120  de    932.  Tempo decorrido: 0:01:16.\n",
            "  Passo   160  de    932.  Tempo decorrido: 0:01:41.\n",
            "  Passo   200  de    932.  Tempo decorrido: 0:02:07.\n",
            "  Passo   240  de    932.  Tempo decorrido: 0:02:32.\n",
            "  Passo   280  de    932.  Tempo decorrido: 0:02:58.\n",
            "  Passo   320  de    932.  Tempo decorrido: 0:03:23.\n",
            "  Passo   360  de    932.  Tempo decorrido: 0:03:48.\n",
            "  Passo   400  de    932.  Tempo decorrido: 0:04:14.\n",
            "  Passo   440  de    932.  Tempo decorrido: 0:04:39.\n",
            "  Passo   480  de    932.  Tempo decorrido: 0:05:05.\n",
            "  Passo   520  de    932.  Tempo decorrido: 0:05:30.\n",
            "  Passo   560  de    932.  Tempo decorrido: 0:05:55.\n",
            "  Passo   600  de    932.  Tempo decorrido: 0:06:21.\n",
            "  Passo   640  de    932.  Tempo decorrido: 0:06:46.\n",
            "  Passo   680  de    932.  Tempo decorrido: 0:07:12.\n",
            "  Passo   720  de    932.  Tempo decorrido: 0:07:37.\n",
            "  Passo   760  de    932.  Tempo decorrido: 0:08:02.\n",
            "  Passo   800  de    932.  Tempo decorrido: 0:08:28.\n",
            "  Passo   840  de    932.  Tempo decorrido: 0:08:53.\n",
            "  Passo   880  de    932.  Tempo decorrido: 0:09:19.\n",
            "  Passo   920  de    932.  Tempo decorrido: 0:09:44.\n",
            "\n",
            "  Média do loss de treino: 0.14\n",
            "  Tempo do treino: 0:09:51\n",
            "\n",
            "Validando...\n",
            "  Acurácia: 0.96\n",
            "  Loss de validação: 0.00\n",
            "  Tempo de validação: 0:00:27\n",
            "\n",
            "======== Época 3 / 5 ========\n",
            "Treinando...\n",
            "  Passo    40  de    932.  Tempo decorrido: 0:00:25.\n",
            "  Passo    80  de    932.  Tempo decorrido: 0:00:51.\n",
            "  Passo   120  de    932.  Tempo decorrido: 0:01:16.\n",
            "  Passo   160  de    932.  Tempo decorrido: 0:01:42.\n",
            "  Passo   200  de    932.  Tempo decorrido: 0:02:07.\n",
            "  Passo   240  de    932.  Tempo decorrido: 0:02:32.\n",
            "  Passo   280  de    932.  Tempo decorrido: 0:02:58.\n",
            "  Passo   320  de    932.  Tempo decorrido: 0:03:23.\n",
            "  Passo   360  de    932.  Tempo decorrido: 0:03:49.\n",
            "  Passo   400  de    932.  Tempo decorrido: 0:04:14.\n",
            "  Passo   440  de    932.  Tempo decorrido: 0:04:39.\n",
            "  Passo   480  de    932.  Tempo decorrido: 0:05:05.\n",
            "  Passo   520  de    932.  Tempo decorrido: 0:05:30.\n",
            "  Passo   560  de    932.  Tempo decorrido: 0:05:55.\n",
            "  Passo   600  de    932.  Tempo decorrido: 0:06:21.\n",
            "  Passo   640  de    932.  Tempo decorrido: 0:06:46.\n",
            "  Passo   680  de    932.  Tempo decorrido: 0:07:12.\n",
            "  Passo   720  de    932.  Tempo decorrido: 0:07:37.\n",
            "  Passo   760  de    932.  Tempo decorrido: 0:08:02.\n",
            "  Passo   800  de    932.  Tempo decorrido: 0:08:28.\n",
            "  Passo   840  de    932.  Tempo decorrido: 0:08:53.\n",
            "  Passo   880  de    932.  Tempo decorrido: 0:09:19.\n",
            "  Passo   920  de    932.  Tempo decorrido: 0:09:44.\n",
            "\n",
            "  Média do loss de treino: 0.07\n",
            "  Tempo do treino: 0:09:51\n",
            "\n",
            "Validando...\n",
            "  Acurácia: 0.97\n",
            "  Loss de validação: 0.00\n",
            "  Tempo de validação: 0:00:27\n",
            "\n",
            "======== Época 4 / 5 ========\n",
            "Treinando...\n",
            "  Passo    40  de    932.  Tempo decorrido: 0:00:25.\n",
            "  Passo    80  de    932.  Tempo decorrido: 0:00:51.\n",
            "  Passo   120  de    932.  Tempo decorrido: 0:01:16.\n",
            "  Passo   160  de    932.  Tempo decorrido: 0:01:42.\n",
            "  Passo   200  de    932.  Tempo decorrido: 0:02:07.\n",
            "  Passo   240  de    932.  Tempo decorrido: 0:02:32.\n",
            "  Passo   280  de    932.  Tempo decorrido: 0:02:58.\n",
            "  Passo   320  de    932.  Tempo decorrido: 0:03:23.\n",
            "  Passo   360  de    932.  Tempo decorrido: 0:03:49.\n",
            "  Passo   400  de    932.  Tempo decorrido: 0:04:14.\n",
            "  Passo   440  de    932.  Tempo decorrido: 0:04:39.\n",
            "  Passo   480  de    932.  Tempo decorrido: 0:05:05.\n",
            "  Passo   520  de    932.  Tempo decorrido: 0:05:30.\n",
            "  Passo   560  de    932.  Tempo decorrido: 0:05:56.\n",
            "  Passo   600  de    932.  Tempo decorrido: 0:06:21.\n",
            "  Passo   640  de    932.  Tempo decorrido: 0:06:46.\n",
            "  Passo   680  de    932.  Tempo decorrido: 0:07:12.\n",
            "  Passo   720  de    932.  Tempo decorrido: 0:07:37.\n",
            "  Passo   760  de    932.  Tempo decorrido: 0:08:02.\n",
            "  Passo   800  de    932.  Tempo decorrido: 0:08:28.\n",
            "  Passo   840  de    932.  Tempo decorrido: 0:08:53.\n",
            "  Passo   880  de    932.  Tempo decorrido: 0:09:19.\n",
            "  Passo   920  de    932.  Tempo decorrido: 0:09:44.\n",
            "\n",
            "  Média do loss de treino: 0.03\n",
            "  Tempo do treino: 0:09:51\n",
            "\n",
            "Validando...\n",
            "  Acurácia: 0.97\n",
            "  Loss de validação: 0.00\n",
            "  Tempo de validação: 0:00:27\n",
            "\n",
            "======== Época 5 / 5 ========\n",
            "Treinando...\n",
            "  Passo    40  de    932.  Tempo decorrido: 0:00:25.\n",
            "  Passo    80  de    932.  Tempo decorrido: 0:00:51.\n",
            "  Passo   120  de    932.  Tempo decorrido: 0:01:16.\n",
            "  Passo   160  de    932.  Tempo decorrido: 0:01:41.\n",
            "  Passo   200  de    932.  Tempo decorrido: 0:02:07.\n",
            "  Passo   240  de    932.  Tempo decorrido: 0:02:32.\n",
            "  Passo   280  de    932.  Tempo decorrido: 0:02:58.\n",
            "  Passo   320  de    932.  Tempo decorrido: 0:03:23.\n",
            "  Passo   360  de    932.  Tempo decorrido: 0:03:48.\n",
            "  Passo   400  de    932.  Tempo decorrido: 0:04:14.\n",
            "  Passo   440  de    932.  Tempo decorrido: 0:04:39.\n",
            "  Passo   480  de    932.  Tempo decorrido: 0:05:04.\n",
            "  Passo   520  de    932.  Tempo decorrido: 0:05:30.\n",
            "  Passo   560  de    932.  Tempo decorrido: 0:05:55.\n",
            "  Passo   600  de    932.  Tempo decorrido: 0:06:21.\n",
            "  Passo   640  de    932.  Tempo decorrido: 0:06:46.\n",
            "  Passo   680  de    932.  Tempo decorrido: 0:07:11.\n",
            "  Passo   720  de    932.  Tempo decorrido: 0:07:37.\n",
            "  Passo   760  de    932.  Tempo decorrido: 0:08:02.\n",
            "  Passo   800  de    932.  Tempo decorrido: 0:08:27.\n",
            "  Passo   840  de    932.  Tempo decorrido: 0:08:53.\n",
            "  Passo   880  de    932.  Tempo decorrido: 0:09:18.\n",
            "  Passo   920  de    932.  Tempo decorrido: 0:09:44.\n",
            "\n",
            "  Média do loss de treino: 0.01\n",
            "  Tempo do treino: 0:09:51\n",
            "\n",
            "Validando...\n",
            "  Acurácia: 0.97\n",
            "  Loss de validação: 0.00\n",
            "  Tempo de validação: 0:00:27\n",
            "\n",
            "Treinamento completo!\n",
            "Tempo total do treino 0:51:30 (h:mm:ss)\n"
          ]
        }
      ],
      "source": [
        "estatisticas = []\n",
        "inicio_total = time.time()\n",
        "\n",
        "for epoca in range(0, epocas):\n",
        "    print('\\n======== Época {:} / {:} ========'.format(epoca + 1, epocas))\n",
        "    print('Treinando...')\n",
        "    inicio_processo = time.time()\n",
        "\n",
        "    # Reinicia o loss a cada época\n",
        "    loss_por_epoca = 0\n",
        "    model.train()\n",
        "    for passo, lote in enumerate(treino_leitor):\n",
        "        if passo % 40 == 0 and not passo == 0:\n",
        "            tempo = format_time(time.time() - inicio_processo)\n",
        "\n",
        "            print('  Passo {:>5,}  de  {:>5,}.  Tempo decorrido: {:}.'.format(passo, len(treino_leitor), tempo))\n",
        "\n",
        "        lote_valores = lote[0].to(device)\n",
        "        lote_classes = lote[1].to(device)\n",
        "\n",
        "        model.zero_grad()\n",
        "\n",
        "        outputs = model(lote_valores,\n",
        "                             token_type_ids=None,\n",
        "                             labels=lote_classes)\n",
        "        loss_por_epoca += outputs.loss.item()\n",
        "        outputs.loss.backward()\n",
        "        torch.nn.utils.clip_grad_norm_(model.parameters(), 1.0)\n",
        "        optimizer.step()\n",
        "        scheduler.step()\n",
        "\n",
        "    # Calcula a média do loss sobre todos lotes\n",
        "    loss_treino_media = loss_por_epoca / len(treino_leitor)\n",
        "\n",
        "    tempo_por_epoca = format_time(time.time() - inicio_processo)\n",
        "    print(\"\\n  Média do loss de treino: {0:.2f}\".format(loss_treino_media))\n",
        "    print(\"  Tempo do treino: {:}\".format(tempo_por_epoca))\n",
        "\n",
        "    print(\"\\nValidando...\")\n",
        "    inicio_processo = time.time()\n",
        "\n",
        "    # Coloca o modelo em modo de validação\n",
        "    model.eval()\n",
        "\n",
        "    # reseta variáveis para validação por epoca\n",
        "    validacao_acuracia_total = 0\n",
        "    validacao_loss_total = 0\n",
        "\n",
        "    for lote in validacao_leitor:\n",
        "\n",
        "        lote_valores = lote[0].to(device)\n",
        "        lote_classes = lote[1].to(device)\n",
        "\n",
        "        with torch.no_grad():\n",
        "\n",
        "            outputs = model(lote_valores,\n",
        "                                   token_type_ids=None,\n",
        "                                   labels=lote_classes)\n",
        "\n",
        "        classes_previstas = outputs.logits.detach().cpu().numpy()\n",
        "        classes = lote_classes.to('cpu').numpy()\n",
        "        predicao = np.argmax(classes_previstas, axis=1).flatten()\n",
        "        classes = classes.flatten()\n",
        "        validacao_acuracia_total += np.sum(predicao == classes) / len(classes)\n",
        "\n",
        "    # mostra a acurácia de cada avaliação.\n",
        "    validacao_acuracia_media = validacao_acuracia_total / len(validacao_leitor)\n",
        "    print(\"  Acurácia: {0:.2f}\".format(validacao_acuracia_media))\n",
        "\n",
        "    # calcula a média da perda nos lotes.\n",
        "    validacao_loss_medio = validacao_loss_total / len(validacao_leitor)\n",
        "\n",
        "    # mede o tempo de cada avaliação.\n",
        "    validation_time = format_time(time.time() - inicio_processo)\n",
        "\n",
        "    print(\"  Loss de validação: {0:.2f}\".format(validacao_loss_medio))\n",
        "    print(\"  Tempo de validação: {:}\".format(validation_time))\n",
        "\n",
        "    # grava as estatísticas por época.\n",
        "    estatisticas.append(\n",
        "        {\n",
        "            'epoca': epoca + 1,\n",
        "            'Loss de Treinamento': loss_treino_media,\n",
        "            'Loss de Validação': validacao_loss_medio,\n",
        "            'Acurácia de Validação': validacao_acuracia_media,\n",
        "            'Tempo de Treino': tempo_por_epoca,\n",
        "            'Tempo de Validação': validation_time\n",
        "        }\n",
        "    )\n",
        "print(\"\\nTreinamento completo!\")\n",
        "print(\"Tempo total do treino {:} (h:mm:ss)\".format(format_time(time.time()-inicio_total)))"
      ]
    },
    {
      "cell_type": "markdown",
      "metadata": {
        "id": "cQsfayFU9ptU"
      },
      "source": [
        "### Validação do Modelo tunado"
      ]
    },
    {
      "cell_type": "code",
      "execution_count": 17,
      "metadata": {
        "colab": {
          "base_uri": "https://localhost:8080/"
        },
        "id": "TpzUJLBkPctC",
        "outputId": "c30fac60-bc43-411e-b33b-d5646b3e258f"
      },
      "outputs": [
        {
          "output_type": "execute_result",
          "data": {
            "text/plain": [
              "BertForSequenceClassification(\n",
              "  (bert): BertModel(\n",
              "    (embeddings): BertEmbeddings(\n",
              "      (word_embeddings): Embedding(29794, 768, padding_idx=0)\n",
              "      (position_embeddings): Embedding(512, 768)\n",
              "      (token_type_embeddings): Embedding(2, 768)\n",
              "      (LayerNorm): LayerNorm((768,), eps=1e-12, elementwise_affine=True)\n",
              "      (dropout): Dropout(p=0.1, inplace=False)\n",
              "    )\n",
              "    (encoder): BertEncoder(\n",
              "      (layer): ModuleList(\n",
              "        (0): BertLayer(\n",
              "          (attention): BertAttention(\n",
              "            (self): BertSelfAttention(\n",
              "              (query): Linear(in_features=768, out_features=768, bias=True)\n",
              "              (key): Linear(in_features=768, out_features=768, bias=True)\n",
              "              (value): Linear(in_features=768, out_features=768, bias=True)\n",
              "              (dropout): Dropout(p=0.1, inplace=False)\n",
              "            )\n",
              "            (output): BertSelfOutput(\n",
              "              (dense): Linear(in_features=768, out_features=768, bias=True)\n",
              "              (LayerNorm): LayerNorm((768,), eps=1e-12, elementwise_affine=True)\n",
              "              (dropout): Dropout(p=0.1, inplace=False)\n",
              "            )\n",
              "          )\n",
              "          (intermediate): BertIntermediate(\n",
              "            (dense): Linear(in_features=768, out_features=3072, bias=True)\n",
              "            (intermediate_act_fn): GELUActivation()\n",
              "          )\n",
              "          (output): BertOutput(\n",
              "            (dense): Linear(in_features=3072, out_features=768, bias=True)\n",
              "            (LayerNorm): LayerNorm((768,), eps=1e-12, elementwise_affine=True)\n",
              "            (dropout): Dropout(p=0.1, inplace=False)\n",
              "          )\n",
              "        )\n",
              "        (1): BertLayer(\n",
              "          (attention): BertAttention(\n",
              "            (self): BertSelfAttention(\n",
              "              (query): Linear(in_features=768, out_features=768, bias=True)\n",
              "              (key): Linear(in_features=768, out_features=768, bias=True)\n",
              "              (value): Linear(in_features=768, out_features=768, bias=True)\n",
              "              (dropout): Dropout(p=0.1, inplace=False)\n",
              "            )\n",
              "            (output): BertSelfOutput(\n",
              "              (dense): Linear(in_features=768, out_features=768, bias=True)\n",
              "              (LayerNorm): LayerNorm((768,), eps=1e-12, elementwise_affine=True)\n",
              "              (dropout): Dropout(p=0.1, inplace=False)\n",
              "            )\n",
              "          )\n",
              "          (intermediate): BertIntermediate(\n",
              "            (dense): Linear(in_features=768, out_features=3072, bias=True)\n",
              "            (intermediate_act_fn): GELUActivation()\n",
              "          )\n",
              "          (output): BertOutput(\n",
              "            (dense): Linear(in_features=3072, out_features=768, bias=True)\n",
              "            (LayerNorm): LayerNorm((768,), eps=1e-12, elementwise_affine=True)\n",
              "            (dropout): Dropout(p=0.1, inplace=False)\n",
              "          )\n",
              "        )\n",
              "        (2): BertLayer(\n",
              "          (attention): BertAttention(\n",
              "            (self): BertSelfAttention(\n",
              "              (query): Linear(in_features=768, out_features=768, bias=True)\n",
              "              (key): Linear(in_features=768, out_features=768, bias=True)\n",
              "              (value): Linear(in_features=768, out_features=768, bias=True)\n",
              "              (dropout): Dropout(p=0.1, inplace=False)\n",
              "            )\n",
              "            (output): BertSelfOutput(\n",
              "              (dense): Linear(in_features=768, out_features=768, bias=True)\n",
              "              (LayerNorm): LayerNorm((768,), eps=1e-12, elementwise_affine=True)\n",
              "              (dropout): Dropout(p=0.1, inplace=False)\n",
              "            )\n",
              "          )\n",
              "          (intermediate): BertIntermediate(\n",
              "            (dense): Linear(in_features=768, out_features=3072, bias=True)\n",
              "            (intermediate_act_fn): GELUActivation()\n",
              "          )\n",
              "          (output): BertOutput(\n",
              "            (dense): Linear(in_features=3072, out_features=768, bias=True)\n",
              "            (LayerNorm): LayerNorm((768,), eps=1e-12, elementwise_affine=True)\n",
              "            (dropout): Dropout(p=0.1, inplace=False)\n",
              "          )\n",
              "        )\n",
              "        (3): BertLayer(\n",
              "          (attention): BertAttention(\n",
              "            (self): BertSelfAttention(\n",
              "              (query): Linear(in_features=768, out_features=768, bias=True)\n",
              "              (key): Linear(in_features=768, out_features=768, bias=True)\n",
              "              (value): Linear(in_features=768, out_features=768, bias=True)\n",
              "              (dropout): Dropout(p=0.1, inplace=False)\n",
              "            )\n",
              "            (output): BertSelfOutput(\n",
              "              (dense): Linear(in_features=768, out_features=768, bias=True)\n",
              "              (LayerNorm): LayerNorm((768,), eps=1e-12, elementwise_affine=True)\n",
              "              (dropout): Dropout(p=0.1, inplace=False)\n",
              "            )\n",
              "          )\n",
              "          (intermediate): BertIntermediate(\n",
              "            (dense): Linear(in_features=768, out_features=3072, bias=True)\n",
              "            (intermediate_act_fn): GELUActivation()\n",
              "          )\n",
              "          (output): BertOutput(\n",
              "            (dense): Linear(in_features=3072, out_features=768, bias=True)\n",
              "            (LayerNorm): LayerNorm((768,), eps=1e-12, elementwise_affine=True)\n",
              "            (dropout): Dropout(p=0.1, inplace=False)\n",
              "          )\n",
              "        )\n",
              "        (4): BertLayer(\n",
              "          (attention): BertAttention(\n",
              "            (self): BertSelfAttention(\n",
              "              (query): Linear(in_features=768, out_features=768, bias=True)\n",
              "              (key): Linear(in_features=768, out_features=768, bias=True)\n",
              "              (value): Linear(in_features=768, out_features=768, bias=True)\n",
              "              (dropout): Dropout(p=0.1, inplace=False)\n",
              "            )\n",
              "            (output): BertSelfOutput(\n",
              "              (dense): Linear(in_features=768, out_features=768, bias=True)\n",
              "              (LayerNorm): LayerNorm((768,), eps=1e-12, elementwise_affine=True)\n",
              "              (dropout): Dropout(p=0.1, inplace=False)\n",
              "            )\n",
              "          )\n",
              "          (intermediate): BertIntermediate(\n",
              "            (dense): Linear(in_features=768, out_features=3072, bias=True)\n",
              "            (intermediate_act_fn): GELUActivation()\n",
              "          )\n",
              "          (output): BertOutput(\n",
              "            (dense): Linear(in_features=3072, out_features=768, bias=True)\n",
              "            (LayerNorm): LayerNorm((768,), eps=1e-12, elementwise_affine=True)\n",
              "            (dropout): Dropout(p=0.1, inplace=False)\n",
              "          )\n",
              "        )\n",
              "        (5): BertLayer(\n",
              "          (attention): BertAttention(\n",
              "            (self): BertSelfAttention(\n",
              "              (query): Linear(in_features=768, out_features=768, bias=True)\n",
              "              (key): Linear(in_features=768, out_features=768, bias=True)\n",
              "              (value): Linear(in_features=768, out_features=768, bias=True)\n",
              "              (dropout): Dropout(p=0.1, inplace=False)\n",
              "            )\n",
              "            (output): BertSelfOutput(\n",
              "              (dense): Linear(in_features=768, out_features=768, bias=True)\n",
              "              (LayerNorm): LayerNorm((768,), eps=1e-12, elementwise_affine=True)\n",
              "              (dropout): Dropout(p=0.1, inplace=False)\n",
              "            )\n",
              "          )\n",
              "          (intermediate): BertIntermediate(\n",
              "            (dense): Linear(in_features=768, out_features=3072, bias=True)\n",
              "            (intermediate_act_fn): GELUActivation()\n",
              "          )\n",
              "          (output): BertOutput(\n",
              "            (dense): Linear(in_features=3072, out_features=768, bias=True)\n",
              "            (LayerNorm): LayerNorm((768,), eps=1e-12, elementwise_affine=True)\n",
              "            (dropout): Dropout(p=0.1, inplace=False)\n",
              "          )\n",
              "        )\n",
              "        (6): BertLayer(\n",
              "          (attention): BertAttention(\n",
              "            (self): BertSelfAttention(\n",
              "              (query): Linear(in_features=768, out_features=768, bias=True)\n",
              "              (key): Linear(in_features=768, out_features=768, bias=True)\n",
              "              (value): Linear(in_features=768, out_features=768, bias=True)\n",
              "              (dropout): Dropout(p=0.1, inplace=False)\n",
              "            )\n",
              "            (output): BertSelfOutput(\n",
              "              (dense): Linear(in_features=768, out_features=768, bias=True)\n",
              "              (LayerNorm): LayerNorm((768,), eps=1e-12, elementwise_affine=True)\n",
              "              (dropout): Dropout(p=0.1, inplace=False)\n",
              "            )\n",
              "          )\n",
              "          (intermediate): BertIntermediate(\n",
              "            (dense): Linear(in_features=768, out_features=3072, bias=True)\n",
              "            (intermediate_act_fn): GELUActivation()\n",
              "          )\n",
              "          (output): BertOutput(\n",
              "            (dense): Linear(in_features=3072, out_features=768, bias=True)\n",
              "            (LayerNorm): LayerNorm((768,), eps=1e-12, elementwise_affine=True)\n",
              "            (dropout): Dropout(p=0.1, inplace=False)\n",
              "          )\n",
              "        )\n",
              "        (7): BertLayer(\n",
              "          (attention): BertAttention(\n",
              "            (self): BertSelfAttention(\n",
              "              (query): Linear(in_features=768, out_features=768, bias=True)\n",
              "              (key): Linear(in_features=768, out_features=768, bias=True)\n",
              "              (value): Linear(in_features=768, out_features=768, bias=True)\n",
              "              (dropout): Dropout(p=0.1, inplace=False)\n",
              "            )\n",
              "            (output): BertSelfOutput(\n",
              "              (dense): Linear(in_features=768, out_features=768, bias=True)\n",
              "              (LayerNorm): LayerNorm((768,), eps=1e-12, elementwise_affine=True)\n",
              "              (dropout): Dropout(p=0.1, inplace=False)\n",
              "            )\n",
              "          )\n",
              "          (intermediate): BertIntermediate(\n",
              "            (dense): Linear(in_features=768, out_features=3072, bias=True)\n",
              "            (intermediate_act_fn): GELUActivation()\n",
              "          )\n",
              "          (output): BertOutput(\n",
              "            (dense): Linear(in_features=3072, out_features=768, bias=True)\n",
              "            (LayerNorm): LayerNorm((768,), eps=1e-12, elementwise_affine=True)\n",
              "            (dropout): Dropout(p=0.1, inplace=False)\n",
              "          )\n",
              "        )\n",
              "        (8): BertLayer(\n",
              "          (attention): BertAttention(\n",
              "            (self): BertSelfAttention(\n",
              "              (query): Linear(in_features=768, out_features=768, bias=True)\n",
              "              (key): Linear(in_features=768, out_features=768, bias=True)\n",
              "              (value): Linear(in_features=768, out_features=768, bias=True)\n",
              "              (dropout): Dropout(p=0.1, inplace=False)\n",
              "            )\n",
              "            (output): BertSelfOutput(\n",
              "              (dense): Linear(in_features=768, out_features=768, bias=True)\n",
              "              (LayerNorm): LayerNorm((768,), eps=1e-12, elementwise_affine=True)\n",
              "              (dropout): Dropout(p=0.1, inplace=False)\n",
              "            )\n",
              "          )\n",
              "          (intermediate): BertIntermediate(\n",
              "            (dense): Linear(in_features=768, out_features=3072, bias=True)\n",
              "            (intermediate_act_fn): GELUActivation()\n",
              "          )\n",
              "          (output): BertOutput(\n",
              "            (dense): Linear(in_features=3072, out_features=768, bias=True)\n",
              "            (LayerNorm): LayerNorm((768,), eps=1e-12, elementwise_affine=True)\n",
              "            (dropout): Dropout(p=0.1, inplace=False)\n",
              "          )\n",
              "        )\n",
              "        (9): BertLayer(\n",
              "          (attention): BertAttention(\n",
              "            (self): BertSelfAttention(\n",
              "              (query): Linear(in_features=768, out_features=768, bias=True)\n",
              "              (key): Linear(in_features=768, out_features=768, bias=True)\n",
              "              (value): Linear(in_features=768, out_features=768, bias=True)\n",
              "              (dropout): Dropout(p=0.1, inplace=False)\n",
              "            )\n",
              "            (output): BertSelfOutput(\n",
              "              (dense): Linear(in_features=768, out_features=768, bias=True)\n",
              "              (LayerNorm): LayerNorm((768,), eps=1e-12, elementwise_affine=True)\n",
              "              (dropout): Dropout(p=0.1, inplace=False)\n",
              "            )\n",
              "          )\n",
              "          (intermediate): BertIntermediate(\n",
              "            (dense): Linear(in_features=768, out_features=3072, bias=True)\n",
              "            (intermediate_act_fn): GELUActivation()\n",
              "          )\n",
              "          (output): BertOutput(\n",
              "            (dense): Linear(in_features=3072, out_features=768, bias=True)\n",
              "            (LayerNorm): LayerNorm((768,), eps=1e-12, elementwise_affine=True)\n",
              "            (dropout): Dropout(p=0.1, inplace=False)\n",
              "          )\n",
              "        )\n",
              "        (10): BertLayer(\n",
              "          (attention): BertAttention(\n",
              "            (self): BertSelfAttention(\n",
              "              (query): Linear(in_features=768, out_features=768, bias=True)\n",
              "              (key): Linear(in_features=768, out_features=768, bias=True)\n",
              "              (value): Linear(in_features=768, out_features=768, bias=True)\n",
              "              (dropout): Dropout(p=0.1, inplace=False)\n",
              "            )\n",
              "            (output): BertSelfOutput(\n",
              "              (dense): Linear(in_features=768, out_features=768, bias=True)\n",
              "              (LayerNorm): LayerNorm((768,), eps=1e-12, elementwise_affine=True)\n",
              "              (dropout): Dropout(p=0.1, inplace=False)\n",
              "            )\n",
              "          )\n",
              "          (intermediate): BertIntermediate(\n",
              "            (dense): Linear(in_features=768, out_features=3072, bias=True)\n",
              "            (intermediate_act_fn): GELUActivation()\n",
              "          )\n",
              "          (output): BertOutput(\n",
              "            (dense): Linear(in_features=3072, out_features=768, bias=True)\n",
              "            (LayerNorm): LayerNorm((768,), eps=1e-12, elementwise_affine=True)\n",
              "            (dropout): Dropout(p=0.1, inplace=False)\n",
              "          )\n",
              "        )\n",
              "        (11): BertLayer(\n",
              "          (attention): BertAttention(\n",
              "            (self): BertSelfAttention(\n",
              "              (query): Linear(in_features=768, out_features=768, bias=True)\n",
              "              (key): Linear(in_features=768, out_features=768, bias=True)\n",
              "              (value): Linear(in_features=768, out_features=768, bias=True)\n",
              "              (dropout): Dropout(p=0.1, inplace=False)\n",
              "            )\n",
              "            (output): BertSelfOutput(\n",
              "              (dense): Linear(in_features=768, out_features=768, bias=True)\n",
              "              (LayerNorm): LayerNorm((768,), eps=1e-12, elementwise_affine=True)\n",
              "              (dropout): Dropout(p=0.1, inplace=False)\n",
              "            )\n",
              "          )\n",
              "          (intermediate): BertIntermediate(\n",
              "            (dense): Linear(in_features=768, out_features=3072, bias=True)\n",
              "            (intermediate_act_fn): GELUActivation()\n",
              "          )\n",
              "          (output): BertOutput(\n",
              "            (dense): Linear(in_features=3072, out_features=768, bias=True)\n",
              "            (LayerNorm): LayerNorm((768,), eps=1e-12, elementwise_affine=True)\n",
              "            (dropout): Dropout(p=0.1, inplace=False)\n",
              "          )\n",
              "        )\n",
              "      )\n",
              "    )\n",
              "    (pooler): BertPooler(\n",
              "      (dense): Linear(in_features=768, out_features=768, bias=True)\n",
              "      (activation): Tanh()\n",
              "    )\n",
              "  )\n",
              "  (dropout): Dropout(p=0.1, inplace=False)\n",
              "  (classifier): Linear(in_features=768, out_features=2, bias=True)\n",
              ")"
            ]
          },
          "metadata": {},
          "execution_count": 17
        }
      ],
      "source": [
        "# gera dataset e leitor de dados de teste\n",
        "teste_dados = TensorDataset(teste_valores, teste_classes)\n",
        "teste_leitor = DataLoader(teste_dados, sampler=SequentialSampler(teste_dados), batch_size=tamanho_lote)\n",
        "# Colocar o modelo em modo de avaliação\n",
        "model.eval()"
      ]
    },
    {
      "cell_type": "code",
      "execution_count": 18,
      "metadata": {
        "id": "PL4-mmdILUH9"
      },
      "outputs": [],
      "source": [
        "classes_previstas , classes_verdadeiras = [], []\n",
        "\n",
        "for lote in teste_leitor:\n",
        "    # coloca o lote na GPUS\n",
        "    lote = tuple(t.to(device) for t in lote)\n",
        "\n",
        "    lote_valores, lote_classes = lote\n",
        "\n",
        "    with torch.no_grad():\n",
        "        outputs = model(lote_valores, token_type_ids=None)\n",
        "\n",
        "    # Adiciona as prediões e as classes para a CPU\n",
        "    outputs = outputs.logits.detach().cpu().numpy()\n",
        "    classes = lote_classes.to('cpu').numpy()\n",
        "\n",
        "    # Salva as predições e as classes corretos\n",
        "    classes_previstas.append(outputs)\n",
        "    classes_verdadeiras.append(classes)      "
      ]
    },
    {
      "cell_type": "code",
      "execution_count": 19,
      "metadata": {
        "id": "R9kiwZpPQGwZ"
      },
      "outputs": [],
      "source": [
        "# prepara resultado\n",
        "lista_previsoes = np.concatenate(classes_previstas, axis=0)\n",
        "lista_previsoes = np.argmax(lista_previsoes, axis=1).flatten()\n",
        "lista_classes_verdadeiras = np.concatenate(classes_verdadeiras, axis=0)"
      ]
    },
    {
      "cell_type": "markdown",
      "metadata": {
        "id": "Hgk3AvF_QfiL"
      },
      "source": [
        "### Relatório de classificação"
      ]
    },
    {
      "cell_type": "code",
      "execution_count": 20,
      "metadata": {
        "colab": {
          "base_uri": "https://localhost:8080/"
        },
        "id": "xV9buFKaQZPt",
        "outputId": "e7d7cce5-1c05-4e79-dbf1-43193daef308"
      },
      "outputs": [
        {
          "output_type": "stream",
          "name": "stdout",
          "text": [
            "              precision    recall  f1-score   support\n",
            "\n",
            "   confiável       0.98      0.97      0.98      1989\n",
            "       falso       0.98      0.98      0.98      2269\n",
            "\n",
            "    accuracy                           0.98      4258\n",
            "   macro avg       0.98      0.98      0.98      4258\n",
            "weighted avg       0.98      0.98      0.98      4258\n",
            "\n"
          ]
        }
      ],
      "source": [
        "print(classification_report(lista_classes_verdadeiras, lista_previsoes,target_names=['confiável','falso']))"
      ]
    },
    {
      "cell_type": "markdown",
      "metadata": {
        "id": "3SVK-__2QlnR"
      },
      "source": [
        "### Curva ROC"
      ]
    },
    {
      "cell_type": "code",
      "execution_count": 21,
      "metadata": {
        "colab": {
          "base_uri": "https://localhost:8080/",
          "height": 295
        },
        "id": "QQ4_BROGQnro",
        "outputId": "0e4840bf-cd7f-46cd-f553-1532922b121f"
      },
      "outputs": [
        {
          "output_type": "display_data",
          "data": {
            "text/plain": [
              "<Figure size 432x288 with 1 Axes>"
            ],
            "image/png": "[encoded data removed]"
          },
          "metadata": {
            "needs_background": "light"
          }
        }
      ],
      "source": [
        "fpr, tpr, _ = roc_curve(lista_classes_verdadeiras, lista_previsoes)\n",
        "roc_auc = auc(fpr, tpr)\n",
        "\n",
        "plt.figure()\n",
        "lw = 2\n",
        "plt.plot(fpr, tpr, color='darkorange',\n",
        "         lw=lw, label='Curva ROC (área = %0.2f)' % roc_auc)\n",
        "plt.plot([0, 1], [0, 1], color='navy', lw=lw, linestyle='--')\n",
        "plt.xlim([0.0, 1.0])\n",
        "plt.ylim([0.0, 1.05])\n",
        "plt.xlabel('Taxa Falso Positivo')\n",
        "plt.ylabel('Taxa Positive Real')\n",
        "plt.title('Receiver Operating Characteristic')\n",
        "plt.legend(loc=\"lower right\")\n",
        "plt.show()"
      ]
    },
    {
      "cell_type": "markdown",
      "metadata": {
        "id": "8NDl-wTARPK_"
      },
      "source": [
        "### Gráfico da Acurácia"
      ]
    },
    {
      "cell_type": "code",
      "execution_count": 22,
      "metadata": {
        "colab": {
          "base_uri": "https://localhost:8080/"
        },
        "id": "8OvFJDKhRPnL",
        "outputId": "6076f4a9-342f-4a8f-af5e-d33de9897122"
      },
      "outputs": [
        {
          "output_type": "stream",
          "name": "stdout",
          "text": [
            "0.9774542038515736\n"
          ]
        }
      ],
      "source": [
        "print(accuracy_score(lista_classes_verdadeiras, lista_previsoes))"
      ]
    },
    {
      "cell_type": "markdown",
      "metadata": {
        "id": "VSwGnmkSRWih"
      },
      "source": [
        "### Matriz de confusão"
      ]
    },
    {
      "cell_type": "code",
      "execution_count": 23,
      "metadata": {
        "colab": {
          "base_uri": "https://localhost:8080/",
          "height": 331
        },
        "id": "oxyqsf-xRYIt",
        "outputId": "7fa1a1db-98dd-4a54-dbda-d85acc3c7f66"
      },
      "outputs": [
        {
          "output_type": "stream",
          "name": "stdout",
          "text": [
            "[[1939   50]\n",
            " [  46 2223]]\n"
          ]
        },
        {
          "output_type": "execute_result",
          "data": {
            "text/plain": [
              "<sklearn.metrics._plot.confusion_matrix.ConfusionMatrixDisplay at 0x7f63e6e35790>"
            ]
          },
          "metadata": {},
          "execution_count": 23
        },
        {
          "output_type": "display_data",
          "data": {
            "text/plain": [
              "<Figure size 432x288 with 2 Axes>"
            ],
            "image/png": "[encoded data removed]"
          },
          "metadata": {
            "needs_background": "light"
          }
        }
      ],
      "source": [
        "conf = confusion_matrix(lista_classes_verdadeiras, lista_previsoes)\n",
        "print(conf)\n",
        "cmd = ConfusionMatrixDisplay(conf, display_labels=['confiável','falso'])\n",
        "cmd.plot()"
      ]
    },
    {
      "cell_type": "markdown",
      "metadata": {
        "id": "ZsP7h_bYRfOn"
      },
      "source": [
        "### Gera as estatísticas do treino"
      ]
    },
    {
      "cell_type": "code",
      "execution_count": 24,
      "metadata": {
        "id": "CF9E0G2jRkUf"
      },
      "outputs": [],
      "source": [
        "# Cria um dataframe das estatísticas\n",
        "pd.set_option('precision', 2)\n",
        "df_estatisticas = pd.DataFrame(data=estatisticas)\n",
        "df_estatisticas = df_estatisticas.set_index('epoca')"
      ]
    },
    {
      "cell_type": "markdown",
      "metadata": {
        "id": "McJfNhcNRvMV"
      },
      "source": [
        "### Curva de aprendizado"
      ]
    },
    {
      "cell_type": "code",
      "execution_count": 25,
      "metadata": {
        "colab": {
          "base_uri": "https://localhost:8080/",
          "height": 297
        },
        "id": "vL6_52WnRqxf",
        "outputId": "46310ea9-706f-4dcc-c1fb-0cfff586c226"
      },
      "outputs": [
        {
          "output_type": "display_data",
          "data": {
            "text/plain": [
              "<Figure size 432x288 with 1 Axes>"
            ],
            "image/png": "[encoded data removed]"
          },
          "metadata": {
            "needs_background": "light"
          }
        }
      ],
      "source": [
        "plt.figure()\n",
        "# Mostra curva de aprendizado.\n",
        "plt.plot(df_estatisticas['Loss de Treinamento'], 'b-o', label=\"Treinamento\")\n",
        "plt.plot(df_estatisticas['Loss de Validação'], 'g-o', label=\"Validação\")\n",
        "plt.title(\"Loss de Treinamento vs Validação\")\n",
        "plt.xlabel(\"Época\")\n",
        "plt.ylabel(\"Loss\")\n",
        "plt.legend()\n",
        "plt.xticks([1, 2, 3, 4])\n",
        "plt.show()"
      ]
    },
    {
      "cell_type": "markdown",
      "metadata": {
        "id": "dvJb4GhoRx_P"
      },
      "source": [
        "### Acurácia"
      ]
    },
    {
      "cell_type": "code",
      "execution_count": 26,
      "metadata": {
        "colab": {
          "base_uri": "https://localhost:8080/",
          "height": 297
        },
        "id": "EknVQrBHR3a3",
        "outputId": "dce0970c-9736-4391-edb9-aa76d67455c4"
      },
      "outputs": [
        {
          "output_type": "display_data",
          "data": {
            "text/plain": [
              "<Figure size 432x288 with 1 Axes>"
            ],
            "image/png": "[encoded data removed]"
          },
          "metadata": {
            "needs_background": "light"
          }
        }
      ],
      "source": [
        "plt.figure()\n",
        "plt.plot(df_estatisticas['Acurácia de Validação'], 'g-o', label=\"Validação\")\n",
        "plt.title(\"Acurácia de Validação\")\n",
        "plt.xlabel(\"Época\")\n",
        "plt.ylabel(\"Acurácia\")\n",
        "plt.legend(loc=\"lower right\")\n",
        "plt.xticks([1, 2, 3, 4])\n",
        "plt.show()"
      ]
    },
    {
      "cell_type": "markdown",
      "metadata": {
        "id": "cnebgfT8Ny6M"
      },
      "source": [
        "### Salvando o melhor modelo"
      ]
    },
    {
      "cell_type": "code",
      "execution_count": 27,
      "metadata": {
        "colab": {
          "base_uri": "https://localhost:8080/"
        },
        "id": "OJfQlVjsNqug",
        "outputId": "3ba0f040-705a-4bfb-88c0-6d2e98ceb4f7"
      },
      "outputs": [
        {
          "output_type": "execute_result",
          "data": {
            "text/plain": [
              "('drive/MyDrive/PUC/TCC/modelos/bertimbau_avaliar_noticias_whatsapp/tokenizer_config.json',\n",
              " 'drive/MyDrive/PUC/TCC/modelos/bertimbau_avaliar_noticias_whatsapp/special_tokens_map.json',\n",
              " 'drive/MyDrive/PUC/TCC/modelos/bertimbau_avaliar_noticias_whatsapp/vocab.txt',\n",
              " 'drive/MyDrive/PUC/TCC/modelos/bertimbau_avaliar_noticias_whatsapp/added_tokens.json')"
            ]
          },
          "metadata": {},
          "execution_count": 27
        }
      ],
      "source": [
        "CAMINHO_MODELO = \"drive/MyDrive/PUC/TCC/modelos/bertimbau_avaliar_noticias_whatsapp\"\n",
        "model.save_pretrained(f\"{CAMINHO_MODELO}\")\n",
        "tokenizer.save_pretrained(f\"{CAMINHO_MODELO}\")"
      ]
    }
  ],
  "metadata": {
    "accelerator": "GPU",
    "colab": {
      "collapsed_sections": [],
      "machine_shape": "hm",
      "name": "classificacao_passo02_treino_avaliacao.ipynb",
      "provenance": [],
      "include_colab_link": true
    },
    "interpreter": {
      "hash": "50691a0bc379e9e647c9463feff34781ae883c7b810726d51a7ed60c4a02b637"
    },
    "kernelspec": {
      "display_name": "Python 3.8.13 ('tcc')",
      "language": "python",
      "name": "python3"
    },
    "language_info": {
      "codemirror_mode": {
        "name": "ipython",
        "version": 3
      },
      "file_extension": ".py",
      "mimetype": "text/x-python",
      "name": "python",
      "nbconvert_exporter": "python",
      "pygments_lexer": "ipython3",
      "version": "3.8.13"
    }
  },
  "nbformat": 4,
  "nbformat_minor": 0
}